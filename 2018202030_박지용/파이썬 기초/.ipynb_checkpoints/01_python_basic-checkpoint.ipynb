{
 "cells": [
  {
   "cell_type": "markdown",
   "metadata": {
    "id": "3S1IZB0j4omr"
   },
   "source": [
    "# **Python은 무엇을 위한 언어인가**\n",
    "    초기 python은 과학, 수학 연구용. 이후 web 페이지 제작으로 각광받음. \n",
    "    현재는 데이터분석 및 어플리케이션 제작으로도 사용  \n",
    "    다양한 목적으로 사용가능함.  \n",
    "  \n",
    "    배우기 쉽다. \n",
    "    실제 사람이 사용하는 언어와 비슷한 형태를 지님(고급 프로그래밍 언어)\n",
    "\n",
    "# **왜 빅데이터를 다루는데 Python을 활용하는가**\n",
    "    대용량 데이터를 다루기 위한 연산을 쉽고 빠르게 가능하도록 브로드캐스팅을 지원함.\n",
    "    운영체제를 가리지 않음\n",
    "    오픈소스 라이브러리가 잘 갖추어져있어 실제 서비스를 구현하는데 필요한 수고가 덜 함.\n",
    "    웹, 어플리케이션 등 다양한 형태의 아웃풋 제작 가능."
   ]
  },
  {
   "cell_type": "markdown",
   "metadata": {
    "id": "ywP94k5F4cRk"
   },
   "source": [
    "# **컴퓨터의 구조에 따른 파이썬 기본문법** "
   ]
  },
  {
   "cell_type": "markdown",
   "metadata": {
    "id": "GH5rs7zU8-cf"
   },
   "source": [
    "## **1. 출력**\n",
    "    print() 함수는 python의 기본 명령어로서 출력을 위한 명령어 print()안에 출력할 내용을 넣어 작동한다.\n",
    "    다만 소괄호 안에는 숫자, 따옴표로 감싼 문자, 변수(추후 학습) 만 가능  \n",
    "    '', \"\" 모두 가능 ' \" \" ' 형태로 따옴표를 감쌀 수 있음"
   ]
  },
  {
   "cell_type": "code",
   "execution_count": null,
   "metadata": {
    "colab": {
     "base_uri": "https://localhost:8080/"
    },
    "executionInfo": {
     "elapsed": 671,
     "status": "ok",
     "timestamp": 1612043296615,
     "user": {
      "displayName": "변치웅",
      "photoUrl": "https://lh6.googleusercontent.com/-XnmjyF_k95g/AAAAAAAAAAI/AAAAAAAAZLk/rRDS8PNaZwg/s64/photo.jpg",
      "userId": "13348118648559709563"
     },
     "user_tz": -540
    },
    "id": "brvWUXy64cRl",
    "outputId": "0a79386d-7aca-4e54-a3e7-fd58b2748da2"
   },
   "outputs": [
    {
     "name": "stdout",
     "output_type": "stream",
     "text": [
      "Hello python!\n"
     ]
    }
   ],
   "source": [
    "print(\"Hello python!\")"
   ]
  },
  {
   "cell_type": "code",
   "execution_count": 4,
   "metadata": {
    "colab": {
     "base_uri": "https://localhost:8080/"
    },
    "executionInfo": {
     "elapsed": 685,
     "status": "ok",
     "timestamp": 1612043301594,
     "user": {
      "displayName": "변치웅",
      "photoUrl": "https://lh6.googleusercontent.com/-XnmjyF_k95g/AAAAAAAAAAI/AAAAAAAAZLk/rRDS8PNaZwg/s64/photo.jpg",
      "userId": "13348118648559709563"
     },
     "user_tz": -540
    },
    "id": "GwIIKZv-4cRm",
    "outputId": "147b9c4c-9a29-4300-e130-1b74ffa86463",
    "scrolled": false
   },
   "outputs": [
    {
     "name": "stdout",
     "output_type": "stream",
     "text": [
      "안녕하세요 제 이름은 변치웅입니다.\n"
     ]
    }
   ],
   "source": [
    "print('안녕하세요 제 이름은 변치웅입니다.')"
   ]
  },
  {
   "cell_type": "code",
   "execution_count": null,
   "metadata": {},
   "outputs": [],
   "source": []
  },
  {
   "cell_type": "code",
   "execution_count": 5,
   "metadata": {
    "colab": {
     "base_uri": "https://localhost:8080/"
    },
    "executionInfo": {
     "elapsed": 675,
     "status": "ok",
     "timestamp": 1612043303805,
     "user": {
      "displayName": "변치웅",
      "photoUrl": "https://lh6.googleusercontent.com/-XnmjyF_k95g/AAAAAAAAAAI/AAAAAAAAZLk/rRDS8PNaZwg/s64/photo.jpg",
      "userId": "13348118648559709563"
     },
     "user_tz": -540
    },
    "id": "QUC-5C7_4cRm",
    "outputId": "b22c5335-28c9-4cab-da27-2b1169c5c085",
    "scrolled": true
   },
   "outputs": [
    {
     "name": "stdout",
     "output_type": "stream",
     "text": [
      "4\n"
     ]
    }
   ],
   "source": [
    "print(4)"
   ]
  },
  {
   "cell_type": "code",
   "execution_count": 7,
   "metadata": {},
   "outputs": [
    {
     "name": "stdout",
     "output_type": "stream",
     "text": [
      "어머니어머니어머니어머니어머니어머니어머니어머니어머니\n"
     ]
    }
   ],
   "source": [
    "print(\"어머니\" * 9)"
   ]
  },
  {
   "cell_type": "code",
   "execution_count": null,
   "metadata": {},
   "outputs": [],
   "source": []
  },
  {
   "cell_type": "code",
   "execution_count": 8,
   "metadata": {
    "colab": {
     "base_uri": "https://localhost:8080/"
    },
    "executionInfo": {
     "elapsed": 859,
     "status": "ok",
     "timestamp": 1612043313542,
     "user": {
      "displayName": "변치웅",
      "photoUrl": "https://lh6.googleusercontent.com/-XnmjyF_k95g/AAAAAAAAAAI/AAAAAAAAZLk/rRDS8PNaZwg/s64/photo.jpg",
      "userId": "13348118648559709563"
     },
     "user_tz": -540
    },
    "id": "4y2dfN6x4cRm",
    "outputId": "b0dae3a6-71c4-4da5-ab72-b191cc9d4043"
   },
   "outputs": [
    {
     "name": "stdout",
     "output_type": "stream",
     "text": [
      "4\n"
     ]
    }
   ],
   "source": [
    "print('4')"
   ]
  },
  {
   "cell_type": "code",
   "execution_count": null,
   "metadata": {},
   "outputs": [],
   "source": []
  },
  {
   "cell_type": "code",
   "execution_count": 3,
   "metadata": {
    "colab": {
     "base_uri": "https://localhost:8080/"
    },
    "executionInfo": {
     "elapsed": 670,
     "status": "ok",
     "timestamp": 1610344978244,
     "user": {
      "displayName": "변치웅",
      "photoUrl": "https://lh6.googleusercontent.com/-XnmjyF_k95g/AAAAAAAAAAI/AAAAAAAAZLk/rRDS8PNaZwg/s64/photo.jpg",
      "userId": "13348118648559709563"
     },
     "user_tz": -540
    },
    "id": "LXqFwr2m4cRm",
    "outputId": "d6747e56-7224-463d-b5a2-b89125971922"
   },
   "outputs": [
    {
     "name": "stdout",
     "output_type": "stream",
     "text": [
      "어머니는 \"짜장면이 싫다\"고 하셨지\n"
     ]
    }
   ],
   "source": [
    "print('어머니는 \"짜장면이 싫다\"고 하셨지')"
   ]
  },
  {
   "cell_type": "code",
   "execution_count": 9,
   "metadata": {
    "colab": {
     "base_uri": "https://localhost:8080/"
    },
    "executionInfo": {
     "elapsed": 666,
     "status": "ok",
     "timestamp": 1612043661646,
     "user": {
      "displayName": "변치웅",
      "photoUrl": "https://lh6.googleusercontent.com/-XnmjyF_k95g/AAAAAAAAAAI/AAAAAAAAZLk/rRDS8PNaZwg/s64/photo.jpg",
      "userId": "13348118648559709563"
     },
     "user_tz": -540
    },
    "id": "Hjiy7JEhRlCj",
    "outputId": "9f36b303-b9ca-465b-b23a-ac0c082cf2a2"
   },
   "outputs": [
    {
     "name": "stdout",
     "output_type": "stream",
     "text": [
      "         영수증\n",
      "------------------------\n",
      "아이스아메리카노     4,500원\n",
      "카페라떼           4,500원\n",
      "치즈케잌           4,500원\n",
      "------------------------\n",
      "total           15,000원\n",
      "\n",
      "이용해 주셔서 감사합니다.\n",
      "------------------------\n"
     ]
    }
   ],
   "source": [
    "print(' '*9 + '영수증')\n",
    "print('-'*24)\n",
    "print('아이스아메리카노     4,500원')\n",
    "print('카페라떼           4,500원')\n",
    "print('치즈케잌           4,500원')\n",
    "print('-'*24)\n",
    "print('total           15,000원')\n",
    "print('')\n",
    "print('이용해 주셔서 감사합니다.')\n",
    "print('-'*24)"
   ]
  },
  {
   "cell_type": "code",
   "execution_count": null,
   "metadata": {
    "colab": {
     "base_uri": "https://localhost:8080/"
    },
    "executionInfo": {
     "elapsed": 787,
     "status": "ok",
     "timestamp": 1610344086738,
     "user": {
      "displayName": "변치웅",
      "photoUrl": "https://lh6.googleusercontent.com/-XnmjyF_k95g/AAAAAAAAAAI/AAAAAAAAZLk/rRDS8PNaZwg/s64/photo.jpg",
      "userId": "13348118648559709563"
     },
     "user_tz": -540
    },
    "id": "iD1HPvXM_LC2",
    "outputId": "da00b5b5-615c-47b2-e5d3-82e0023f0628"
   },
   "outputs": [
    {
     "name": "stdout",
     "output_type": "stream",
     "text": [
      "          영수증          \n",
      "------------------------\n",
      "아이스아메리카노     4,500원\n",
      "카페라떼           4,500원\n",
      "치즈케잌           6,000원\n",
      "-----------------------\n",
      "total           15,000원\n",
      "\n",
      "이용해 주셔서 감사합니다.\n",
      "------------------------\n"
     ]
    }
   ],
   "source": [
    "# 아래 결과를 출력해 봅시다."
   ]
  },
  {
   "cell_type": "markdown",
   "metadata": {
    "id": "X2oB_e6C4cRn"
   },
   "source": [
    "## **2. 저장**\n",
    "    컴퓨터에 데이터를 저장하기 위해서 우리는 변수를 사용합니다. 변수는 말 그대로 변할 수 있는 대상  \n",
    "    저장한 데이터를 다시 사용하기 위해서도 변수를 사용  \n",
    "    변수, variable"
   ]
  },
  {
   "cell_type": "markdown",
   "metadata": {
    "id": "sOkhAZLH4cRn"
   },
   "source": [
    "### 변수의 용도\n",
    "    1. 저장  \n",
    "    2. 연산의 피 연산자  \n",
    "    3. 함수의 매개변수"
   ]
  },
  {
   "cell_type": "markdown",
   "metadata": {
    "id": "28KDDpUgD56U"
   },
   "source": [
    "### 변수의 종류(type) : 변수에 저장할 값의 종류\n",
    "  \n",
    "    정수 int  \n",
    "    실수 float  \n",
    "    문자열 str  \n",
    "    불대수 bool\n",
    "    함수 func\n",
    "    객체 obj"
   ]
  },
  {
   "cell_type": "markdown",
   "metadata": {
    "id": "I1Njq3AID9CA"
   },
   "source": [
    "### 변수(값)의 형변환(Type Casting)\n",
    "    숫자 -> 문자  \n",
    "    문자 -> 숫자  "
   ]
  },
  {
   "cell_type": "code",
   "execution_count": null,
   "metadata": {
    "id": "PE3zTbcv4cRn"
   },
   "outputs": [],
   "source": [
    "# 값을 변수에 직접 저장, 할당, 바인딩 하는 방법\n",
    "\n",
    "# height라는 이름을 가진 변수(저장공간)을 만들고 173이라는 값을 저장한다.\n",
    "height = 173\n",
    "# weight라는 이름을 가진 변수(저장공간)을 만들고 79.5라는 값을 저장한다.\n",
    "weight = 75\n",
    "# name라는 이름을 가진 변수(저장공간)을 만들고 변치웅 이라는 문자를 저장한다\n",
    "name = \"변치웅\"\n",
    "# job라는 이름을 가진 변수(저장공간)을 만들고 강사라는 문자를 저장한다\n",
    "job = '강사'"
   ]
  },
  {
   "cell_type": "code",
   "execution_count": 10,
   "metadata": {
    "id": "KGv_Tp-TQczg"
   },
   "outputs": [],
   "source": [
    "# 사용자의 입력값을 변수에 저장하는 방법"
   ]
  },
  {
   "cell_type": "code",
   "execution_count": 13,
   "metadata": {},
   "outputs": [
    {
     "name": "stdout",
     "output_type": "stream",
     "text": [
      "숫잘르 입1\n"
     ]
    }
   ],
   "source": [
    "a = input(\"숫자를 입력\")"
   ]
  },
  {
   "cell_type": "code",
   "execution_count": 14,
   "metadata": {},
   "outputs": [
    {
     "data": {
      "text/plain": [
       "'1'"
      ]
     },
     "execution_count": 14,
     "metadata": {},
     "output_type": "execute_result"
    }
   ],
   "source": [
    "a"
   ]
  },
  {
   "cell_type": "markdown",
   "metadata": {
    "id": "MvD6OS9m4cRo"
   },
   "source": [
    "## **3. 변수 이름짓기(식별자 규칙)**\n",
    "#### 변수는 데이터를 식별 할 수 있는 단어가 좋음. 네이밍에 꽤 오랜시간을 소요함.\n",
    "\n",
    "    1. 변수 사용 문법규칙\n",
    "    - 대소문자 구분 A, a\n",
    "    - 한글사용 가능 (추천하지 않음)\n",
    "    - 띄어쓰기 금지\n",
    "    - 특수문자 _만 가능\n",
    "    - 숫자 가능, 숫자로 시작 X\n",
    "    - 예약어 금지(문법용어나 특수한 단어를 변수명으로 사용금지)\n",
    "\n",
    "    2. 관례적규칙\n",
    "    - 동사, 명사 \n",
    "    - 형용사금지\n",
    "    - 표기법 (범위 - 한 파일 혹은 한 프로그램)\n",
    "    a) 낙타 myNameIs - 함수 이름\n",
    "    b) 파스칼 MyNameIs - 클래스 이름\n",
    "    c) 스네이크 my_name_is - 변수명\n",
    "    d) 헝가리안 strMynameIs"
   ]
  },
  {
   "cell_type": "code",
   "execution_count": null,
   "metadata": {
    "id": "vPiRjOVG4cRp"
   },
   "outputs": [],
   "source": [
    "# python 예약어\n",
    "# 예약어는 변수명 혹은 함수명으로 쓸 수 없습니다.\n",
    "# 기억할 필요는 없지만 눈으로만 확인 해 봅시다.\n",
    "# 코딩 시 초록색 반전이 일어남\n",
    "# 파이썬에서 특정 작동을 위해 미리 선점해둔 키워드\n",
    "\n",
    "and exec() not\n",
    "assert finally or\n",
    "break for pass\n",
    "class from print()\n",
    "continue global raise\n",
    "def if return\n",
    "del import try\n",
    "elif in while\n",
    "else is with\n",
    "except lambda yield"
   ]
  },
  {
   "cell_type": "markdown",
   "metadata": {
    "id": "4h-W8h9b4cRp"
   },
   "source": [
    "## **4. 사칙연산**\n",
    "\n",
    "    +, -, *, /, **, //\n",
    "    더하기, 빼기, 곱하기, 나누기, 거듭제곱, 몫"
   ]
  },
  {
   "cell_type": "code",
   "execution_count": 15,
   "metadata": {
    "id": "IWPRFKBR4cRp"
   },
   "outputs": [],
   "source": [
    "a = 10"
   ]
  },
  {
   "cell_type": "code",
   "execution_count": 16,
   "metadata": {
    "id": "j2kGt7_U4cRp"
   },
   "outputs": [],
   "source": [
    "b = 3.14"
   ]
  },
  {
   "cell_type": "code",
   "execution_count": 17,
   "metadata": {
    "id": "XJWNt6uE4cRp"
   },
   "outputs": [
    {
     "ename": "NameError",
     "evalue": "name 'name' is not defined",
     "output_type": "error",
     "traceback": [
      "\u001b[1;31m---------------------------------------------------------------------------\u001b[0m",
      "\u001b[1;31mNameError\u001b[0m                                 Traceback (most recent call last)",
      "\u001b[1;32m<ipython-input-17-9bc0cb2ed6de>\u001b[0m in \u001b[0;36m<module>\u001b[1;34m\u001b[0m\n\u001b[1;32m----> 1\u001b[1;33m \u001b[0mname\u001b[0m\u001b[1;33m\u001b[0m\u001b[1;33m\u001b[0m\u001b[0m\n\u001b[0m",
      "\u001b[1;31mNameError\u001b[0m: name 'name' is not defined"
     ]
    }
   ],
   "source": [
    "name"
   ]
  },
  {
   "cell_type": "code",
   "execution_count": 18,
   "metadata": {
    "id": "EuSp4eGk4cRq"
   },
   "outputs": [
    {
     "ename": "NameError",
     "evalue": "name 'job' is not defined",
     "output_type": "error",
     "traceback": [
      "\u001b[1;31m---------------------------------------------------------------------------\u001b[0m",
      "\u001b[1;31mNameError\u001b[0m                                 Traceback (most recent call last)",
      "\u001b[1;32m<ipython-input-18-d496c21b1070>\u001b[0m in \u001b[0;36m<module>\u001b[1;34m\u001b[0m\n\u001b[1;32m----> 1\u001b[1;33m \u001b[0mjob\u001b[0m\u001b[1;33m\u001b[0m\u001b[1;33m\u001b[0m\u001b[0m\n\u001b[0m",
      "\u001b[1;31mNameError\u001b[0m: name 'job' is not defined"
     ]
    }
   ],
   "source": [
    "job"
   ]
  },
  {
   "cell_type": "code",
   "execution_count": 19,
   "metadata": {
    "id": "SGhahjXJ4cRq"
   },
   "outputs": [
    {
     "data": {
      "text/plain": [
       "13.14"
      ]
     },
     "execution_count": 19,
     "metadata": {},
     "output_type": "execute_result"
    }
   ],
   "source": [
    "a + b"
   ]
  },
  {
   "cell_type": "code",
   "execution_count": 20,
   "metadata": {
    "id": "fJjAPlj24cRq"
   },
   "outputs": [
    {
     "data": {
      "text/plain": [
       "13.14"
      ]
     },
     "execution_count": 20,
     "metadata": {},
     "output_type": "execute_result"
    }
   ],
   "source": [
    "a + b"
   ]
  },
  {
   "cell_type": "code",
   "execution_count": 21,
   "metadata": {
    "id": "5SbBS7S74cRq"
   },
   "outputs": [
    {
     "data": {
      "text/plain": [
       "6.859999999999999"
      ]
     },
     "execution_count": 21,
     "metadata": {},
     "output_type": "execute_result"
    }
   ],
   "source": [
    "a - b"
   ]
  },
  {
   "cell_type": "code",
   "execution_count": 22,
   "metadata": {
    "id": "gh8ZvQ3T4cRq"
   },
   "outputs": [
    {
     "data": {
      "text/plain": [
       "31.400000000000002"
      ]
     },
     "execution_count": 22,
     "metadata": {},
     "output_type": "execute_result"
    }
   ],
   "source": [
    "a * b"
   ]
  },
  {
   "cell_type": "code",
   "execution_count": 23,
   "metadata": {
    "id": "LExtjVIE4cRq"
   },
   "outputs": [
    {
     "data": {
      "text/plain": [
       "3.184713375796178"
      ]
     },
     "execution_count": 23,
     "metadata": {},
     "output_type": "execute_result"
    }
   ],
   "source": [
    "a / b"
   ]
  },
  {
   "cell_type": "code",
   "execution_count": 24,
   "metadata": {
    "id": "WTzFvU6i4cRq"
   },
   "outputs": [
    {
     "data": {
      "text/plain": [
       "3.0"
      ]
     },
     "execution_count": 24,
     "metadata": {},
     "output_type": "execute_result"
    }
   ],
   "source": [
    "a // b"
   ]
  },
  {
   "cell_type": "code",
   "execution_count": null,
   "metadata": {
    "id": "Cpsgssi74cRr"
   },
   "outputs": [],
   "source": [
    "a ** b"
   ]
  },
  {
   "cell_type": "code",
   "execution_count": null,
   "metadata": {
    "id": "Cm52jA9P4cRr"
   },
   "outputs": [],
   "source": [
    "name + job"
   ]
  },
  {
   "cell_type": "code",
   "execution_count": null,
   "metadata": {
    "id": "fKTIi5F54cRr"
   },
   "outputs": [],
   "source": [
    "name + job * 10"
   ]
  },
  {
   "cell_type": "code",
   "execution_count": null,
   "metadata": {
    "id": "FNKgopy8MALG"
   },
   "outputs": [],
   "source": [
    "# 몇분인지, 몇초인지 계산하여 출력하세요"
   ]
  },
  {
   "cell_type": "code",
   "execution_count": null,
   "metadata": {
    "id": "KKSedNcgNjVy"
   },
   "outputs": [],
   "source": [
    "# bmi를 계산해서 출력하는 프로그램을 만들어봅시다\n",
    "# 이름 name\n",
    "# 신장 height\n",
    "# 몸무게 weight\n",
    "# 계산식 : bmi = 신장 / (몸무게 / 100)^2"
   ]
  },
  {
   "cell_type": "code",
   "execution_count": null,
   "metadata": {
    "id": "de0R-z2o4cRr"
   },
   "outputs": [],
   "source": [
    "# 원금 5,000,000만원을 3% 연이자로 예금했을 때 10년 후 원리금의 합은?\n",
    "# 이자는 매년 계산되어서 원금에 합산\n",
    "# 계산식 : 원금 + (1 + 이자)^년수\n",
    "# 변수를 사용\n",
    "# 원금 origin\n",
    "# 이자 interest\n",
    "# 년수 year"
   ]
  },
  {
   "cell_type": "markdown",
   "metadata": {
    "id": "bXoAtfIZ4cRr"
   },
   "source": [
    "## **4-2. 사칙연산을 포함한 출력의 여러가지 방법**"
   ]
  },
  {
   "cell_type": "code",
   "execution_count": null,
   "metadata": {
    "id": "yLJwxBj34cRs"
   },
   "outputs": [],
   "source": [
    "# 바로 출력이 되지 않는 int 혹은 float 형태의 데이터는 str()로 type casting 후 사용가능\n",
    "print(name + '의 키는 ' + str(height) + 'cm이고 몸무게는 ' + str(weight) +'kg입니다. 직업은 ' + job + '입니다.')"
   ]
  },
  {
   "cell_type": "code",
   "execution_count": null,
   "metadata": {
    "id": "3dcT-m6e4cRs"
   },
   "outputs": [],
   "source": [
    "# 변수로 사용하고자 하는 위치에 {}로 감싸고 문장뒤에 해당 변수를 알려주는 방법\n",
    "print('{}의 키는 {}cm이고 몸무게는 {}kg입니다. 직업은 {}입니다.'.format(name, height, weight, job))"
   ]
  },
  {
   "cell_type": "code",
   "execution_count": null,
   "metadata": {
    "id": "MEShg1x94cRs"
   },
   "outputs": [],
   "source": [
    "# format string이라는 특수한 형태의 텍스트를 사용하는 방법\n",
    "print(f'{name}의 키는 {height}cm이고 몸무게는 {weight}kg입니다. 직업은 {job}입니다.')"
   ]
  },
  {
   "cell_type": "markdown",
   "metadata": {
    "id": "M6ESo9u54cRs"
   },
   "source": [
    "## **5. 조건연산**\n",
    "    and, or, in, ==, !=\n",
    "    동시충족, 조건충족, 보유여부, 같은값, 다른값\n",
    "\n",
    "    bool 타입  \n",
    "    참인지 거짓인지 True, False로 구분가능한 데이터"
   ]
  },
  {
   "cell_type": "code",
   "execution_count": null,
   "metadata": {
    "id": "CLfj4KwU4cRs"
   },
   "outputs": [],
   "source": [
    "1 == 2"
   ]
  },
  {
   "cell_type": "code",
   "execution_count": null,
   "metadata": {
    "id": "rj19u6Yt4cRs"
   },
   "outputs": [],
   "source": [
    "1 != 1"
   ]
  },
  {
   "cell_type": "code",
   "execution_count": null,
   "metadata": {
    "id": "60wCZViL4cRs"
   },
   "outputs": [],
   "source": [
    "'안녕하세요' == '안녕하세요'"
   ]
  },
  {
   "cell_type": "code",
   "execution_count": null,
   "metadata": {
    "id": "GmhaHd0r4cRt"
   },
   "outputs": [],
   "source": [
    "'안녕' in '안녕하세요'"
   ]
  },
  {
   "cell_type": "code",
   "execution_count": null,
   "metadata": {
    "colab": {
     "base_uri": "https://localhost:8080/"
    },
    "executionInfo": {
     "elapsed": 650,
     "status": "ok",
     "timestamp": 1610348294079,
     "user": {
      "displayName": "변치웅",
      "photoUrl": "https://lh6.googleusercontent.com/-XnmjyF_k95g/AAAAAAAAAAI/AAAAAAAAZLk/rRDS8PNaZwg/s64/photo.jpg",
      "userId": "13348118648559709563"
     },
     "user_tz": -540
    },
    "id": "KbbzP9GE4cRt",
    "outputId": "239eff1f-2337-4111-b174-2336ed9d38e0"
   },
   "outputs": [
    {
     "data": {
      "text/plain": [
       "(1, 2)"
      ]
     },
     "execution_count": 24,
     "metadata": {
      "tags": []
     },
     "output_type": "execute_result"
    }
   ],
   "source": [
    "(1, 2, 3) and (1, 2)"
   ]
  },
  {
   "cell_type": "code",
   "execution_count": null,
   "metadata": {
    "colab": {
     "base_uri": "https://localhost:8080/"
    },
    "executionInfo": {
     "elapsed": 1042,
     "status": "ok",
     "timestamp": 1610348296854,
     "user": {
      "displayName": "변치웅",
      "photoUrl": "https://lh6.googleusercontent.com/-XnmjyF_k95g/AAAAAAAAAAI/AAAAAAAAZLk/rRDS8PNaZwg/s64/photo.jpg",
      "userId": "13348118648559709563"
     },
     "user_tz": -540
    },
    "id": "Y1RGkpDB4cRt",
    "outputId": "c3be752b-e54e-4442-a842-9e17026dd671"
   },
   "outputs": [
    {
     "data": {
      "text/plain": [
       "(1, 2, 3)"
      ]
     },
     "execution_count": 25,
     "metadata": {
      "tags": []
     },
     "output_type": "execute_result"
    }
   ],
   "source": [
    "(1, 2, 3) or (1, 2)"
   ]
  },
  {
   "cell_type": "code",
   "execution_count": null,
   "metadata": {
    "id": "omffazz9ReFX"
   },
   "outputs": [],
   "source": []
  },
  {
   "cell_type": "code",
   "execution_count": null,
   "metadata": {
    "id": "sGgn7nMMReDi"
   },
   "outputs": [],
   "source": []
  },
  {
   "cell_type": "code",
   "execution_count": null,
   "metadata": {
    "id": "fefjttTuReBt"
   },
   "outputs": [],
   "source": []
  },
  {
   "cell_type": "code",
   "execution_count": null,
   "metadata": {
    "id": "xKmhHQOsRd-z"
   },
   "outputs": [],
   "source": []
  },
  {
   "cell_type": "code",
   "execution_count": null,
   "metadata": {
    "id": "yEigKV9TRd8k"
   },
   "outputs": [],
   "source": []
  },
  {
   "cell_type": "code",
   "execution_count": null,
   "metadata": {
    "id": "eTCInftRRd6U"
   },
   "outputs": [],
   "source": []
  },
  {
   "cell_type": "code",
   "execution_count": null,
   "metadata": {
    "id": "TXugzSrORd4A"
   },
   "outputs": [],
   "source": []
  },
  {
   "cell_type": "code",
   "execution_count": null,
   "metadata": {
    "id": "53atyPfmRd1w"
   },
   "outputs": [],
   "source": []
  },
  {
   "cell_type": "code",
   "execution_count": null,
   "metadata": {
    "id": "p2yj-R9bRdzx"
   },
   "outputs": [],
   "source": []
  },
  {
   "cell_type": "code",
   "execution_count": null,
   "metadata": {
    "id": "KaZ-ldVWRdwo"
   },
   "outputs": [],
   "source": []
  },
  {
   "cell_type": "code",
   "execution_count": null,
   "metadata": {
    "id": "Bjb8u2j0Rdui"
   },
   "outputs": [],
   "source": []
  },
  {
   "cell_type": "code",
   "execution_count": null,
   "metadata": {
    "id": "BEecT5ZJRdsO"
   },
   "outputs": [],
   "source": []
  },
  {
   "cell_type": "code",
   "execution_count": null,
   "metadata": {
    "id": "szBz9WyHRdpl"
   },
   "outputs": [],
   "source": []
  },
  {
   "cell_type": "code",
   "execution_count": null,
   "metadata": {
    "id": "FsBSXzQcRdng"
   },
   "outputs": [],
   "source": []
  },
  {
   "cell_type": "code",
   "execution_count": null,
   "metadata": {
    "id": "tAidfyGURdk6"
   },
   "outputs": [],
   "source": []
  },
  {
   "cell_type": "code",
   "execution_count": null,
   "metadata": {
    "id": "fZbg0yw0Rdij"
   },
   "outputs": [],
   "source": []
  },
  {
   "cell_type": "code",
   "execution_count": null,
   "metadata": {
    "id": "hHqg9lVaRdga"
   },
   "outputs": [],
   "source": []
  },
  {
   "cell_type": "code",
   "execution_count": null,
   "metadata": {
    "id": "0g-v90L1Rddw"
   },
   "outputs": [],
   "source": []
  },
  {
   "cell_type": "code",
   "execution_count": null,
   "metadata": {
    "id": "PsWKwcwJRdbc"
   },
   "outputs": [],
   "source": []
  },
  {
   "cell_type": "code",
   "execution_count": null,
   "metadata": {
    "id": "dOtiNyHzRdZg"
   },
   "outputs": [],
   "source": []
  },
  {
   "cell_type": "code",
   "execution_count": null,
   "metadata": {
    "id": "QGKn0dnsRdWt"
   },
   "outputs": [],
   "source": []
  },
  {
   "cell_type": "code",
   "execution_count": null,
   "metadata": {
    "id": "iEeLa34jRdUf"
   },
   "outputs": [],
   "source": []
  },
  {
   "cell_type": "code",
   "execution_count": null,
   "metadata": {
    "id": "v0IxAufKRdSM"
   },
   "outputs": [],
   "source": []
  },
  {
   "cell_type": "code",
   "execution_count": null,
   "metadata": {
    "id": "2A3jCeSQRdP3"
   },
   "outputs": [],
   "source": []
  },
  {
   "cell_type": "code",
   "execution_count": null,
   "metadata": {
    "id": "nHirDW4hRdNq"
   },
   "outputs": [],
   "source": []
  },
  {
   "cell_type": "code",
   "execution_count": null,
   "metadata": {
    "id": "3uqfEVbQRdLf"
   },
   "outputs": [],
   "source": []
  },
  {
   "cell_type": "code",
   "execution_count": null,
   "metadata": {
    "id": "INCiwdHLRdJe"
   },
   "outputs": [],
   "source": []
  },
  {
   "cell_type": "code",
   "execution_count": null,
   "metadata": {
    "id": "9L2slSEARdHJ"
   },
   "outputs": [],
   "source": []
  },
  {
   "cell_type": "code",
   "execution_count": null,
   "metadata": {
    "id": "S094XcfcRdFC"
   },
   "outputs": [],
   "source": []
  },
  {
   "cell_type": "code",
   "execution_count": null,
   "metadata": {
    "id": "eQcYwPzeRdCn"
   },
   "outputs": [],
   "source": []
  },
  {
   "cell_type": "code",
   "execution_count": null,
   "metadata": {
    "id": "cuumtlkWRdAU"
   },
   "outputs": [],
   "source": []
  },
  {
   "cell_type": "code",
   "execution_count": null,
   "metadata": {
    "id": "J94NKToXRc-F"
   },
   "outputs": [],
   "source": []
  },
  {
   "cell_type": "code",
   "execution_count": null,
   "metadata": {
    "id": "wa_KB2MLRc2F"
   },
   "outputs": [],
   "source": []
  },
  {
   "cell_type": "code",
   "execution_count": null,
   "metadata": {
    "id": "vtjzsPfe4cRy"
   },
   "outputs": [],
   "source": []
  },
  {
   "cell_type": "code",
   "execution_count": null,
   "metadata": {
    "id": "0bfSxtKN4cRy"
   },
   "outputs": [],
   "source": []
  },
  {
   "cell_type": "code",
   "execution_count": null,
   "metadata": {
    "id": "IaPsxALp4cRy"
   },
   "outputs": [],
   "source": []
  },
  {
   "cell_type": "code",
   "execution_count": null,
   "metadata": {
    "id": "Zbf3DFa54cRz"
   },
   "outputs": [],
   "source": []
  },
  {
   "cell_type": "code",
   "execution_count": null,
   "metadata": {
    "id": "HomXXq_w4cRz"
   },
   "outputs": [],
   "source": []
  },
  {
   "cell_type": "code",
   "execution_count": 26,
   "metadata": {
    "id": "qEdu2l9K4cRz"
   },
   "outputs": [
    {
     "name": "stdout",
     "output_type": "stream",
     "text": [
      "          영수증          \n",
      "------------------------\n",
      "아이스아메리카노     4,500원\n",
      "카페라떼           4,500원\n",
      "치즈케잌           6,000원\n",
      "-----------------------\n",
      "total           15,000원\n",
      "\n",
      "이용해 주셔서 감사합니다.\n",
      "------------------------\n"
     ]
    },
    {
     "ename": "NameError",
     "evalue": "name 'origin' is not defined",
     "output_type": "error",
     "traceback": [
      "\u001b[1;31m---------------------------------------------------------------------------\u001b[0m",
      "\u001b[1;31mNameError\u001b[0m                                 Traceback (most recent call last)",
      "\u001b[1;32m<ipython-input-26-7f103452c11d>\u001b[0m in \u001b[0;36m<module>\u001b[1;34m\u001b[0m\n\u001b[0;32m     11\u001b[0m \u001b[1;33m\u001b[0m\u001b[0m\n\u001b[0;32m     12\u001b[0m \u001b[1;36m5000000\u001b[0m \u001b[1;33m*\u001b[0m \u001b[1;33m(\u001b[0m\u001b[1;36m1\u001b[0m \u001b[1;33m+\u001b[0m \u001b[1;36m0.023\u001b[0m\u001b[1;33m)\u001b[0m \u001b[1;33m**\u001b[0m \u001b[1;36m10\u001b[0m\u001b[1;33m\u001b[0m\u001b[1;33m\u001b[0m\u001b[0m\n\u001b[1;32m---> 13\u001b[1;33m \u001b[0morigin\u001b[0m \u001b[1;33m*\u001b[0m \u001b[1;33m(\u001b[0m\u001b[1;36m1\u001b[0m \u001b[1;33m+\u001b[0m \u001b[0minterests\u001b[0m \u001b[1;33m/\u001b[0m \u001b[1;36m100\u001b[0m\u001b[1;33m)\u001b[0m \u001b[1;33m**\u001b[0m \u001b[0myear\u001b[0m\u001b[1;33m\u001b[0m\u001b[1;33m\u001b[0m\u001b[0m\n\u001b[0m\u001b[0;32m     14\u001b[0m \u001b[1;33m\u001b[0m\u001b[0m\n\u001b[0;32m     15\u001b[0m \u001b[0mhour\u001b[0m \u001b[1;33m=\u001b[0m \u001b[1;36m3\u001b[0m\u001b[1;33m\u001b[0m\u001b[1;33m\u001b[0m\u001b[0m\n",
      "\u001b[1;31mNameError\u001b[0m: name 'origin' is not defined"
     ]
    }
   ],
   "source": [
    "print('          영수증          ')\n",
    "print('------------------------')\n",
    "print('아이스아메리카노     4,500원')\n",
    "print('카페라떼           4,500원')\n",
    "print('치즈케잌           6,000원')\n",
    "print('-----------------------')\n",
    "print('total           15,000원')\n",
    "print('')\n",
    "print('이용해 주셔서 감사합니다.')\n",
    "print('------------------------')\n",
    "\n",
    "5000000 * (1 + 0.023) ** 10\n",
    "origin * (1 + interests / 100) ** year\n",
    "\n",
    "hour = 3\n",
    "minute = 35\n",
    "second = 46\n",
    "print(str(hour * 60 + minute + second / 60) + '분입니다.')\n",
    "print(str(hour * 3600 + minute * 60 + second) + '초입니다.')\n",
    "\n",
    "name = '변치웅'\n",
    "height = 172\n",
    "weight = 80\n",
    "bmi = weight / (height / 100) ** 2"
   ]
  },
  {
   "cell_type": "code",
   "execution_count": null,
   "metadata": {},
   "outputs": [],
   "source": []
  },
  {
   "cell_type": "code",
   "execution_count": null,
   "metadata": {},
   "outputs": [],
   "source": []
  },
  {
   "cell_type": "code",
   "execution_count": null,
   "metadata": {},
   "outputs": [],
   "source": []
  },
  {
   "cell_type": "code",
   "execution_count": null,
   "metadata": {},
   "outputs": [],
   "source": []
  },
  {
   "cell_type": "code",
   "execution_count": null,
   "metadata": {},
   "outputs": [],
   "source": []
  }
 ],
 "metadata": {
  "colab": {
   "collapsed_sections": [],
   "name": "01_python_basic.ipynb",
   "provenance": [],
   "toc_visible": true
  },
  "kernelspec": {
   "display_name": "Python 3",
   "language": "python",
   "name": "python3"
  },
  "language_info": {
   "codemirror_mode": {
    "name": "ipython",
    "version": 3
   },
   "file_extension": ".py",
   "mimetype": "text/x-python",
   "name": "python",
   "nbconvert_exporter": "python",
   "pygments_lexer": "ipython3",
   "version": "3.8.8"
  }
 },
 "nbformat": 4,
 "nbformat_minor": 1
}
