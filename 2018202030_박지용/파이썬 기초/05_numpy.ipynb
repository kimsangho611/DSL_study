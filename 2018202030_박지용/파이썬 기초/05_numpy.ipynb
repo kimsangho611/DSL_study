{
 "cells": [
  {
   "cell_type": "markdown",
   "metadata": {
    "id": "ZybSIv-ONkiq"
   },
   "source": [
    "# **Numpy (Numeric python)**\n",
    "    패키지 이름과 같이 수리적 파이썬 활용을 위한 파이썬 패키지\n",
    "    선형대수학 구현과 과학적 컴퓨팅 연산을 위한 함수를 제공\n",
    "    (key)nparray 다차원 배열을 사용하여 벡터의 산술 연산이 가능\n",
    "    브로드캐스팅을 활용하여 shape(형태 혹은 모양)이 다른 데이터의 연산이 가능\n",
    "    - 기존 언어에서는 제공 X\n",
    "    - 굉장히 파워풀한 기능으로서 빅데이터 연산에 굉장히 효율이 좋음     "
   ]
  },
  {
   "cell_type": "markdown",
   "metadata": {
    "id": "MsamyzIBN81o"
   },
   "source": [
    "## **1. Numpy 설치 와 import**\n",
    "선행 학습을 통해 클래스와 함수에서 패키지와 클래스를 불러들여 사용할 수 있다고 배웠습니다.\n",
    "\n",
    "다만 직접 작성한 클래스가 아닐경우, 그리고 현재 컴퓨터에 사용해야 할 패키지가 없을경우 간단한 명령어로 설치가능.\n",
    "    \n",
    "    conda, pip 명령어 : python 라이브러리 관리 프로그램으로 \n",
    "               오픈소스라이브러리를 간편하게 설치 할 수 있도록 하는 명령어\n",
    "    \n",
    "    콘솔창에서 실행 시\n",
    "    pip install [패키지명]\n",
    "    conda install [패키지명]\n",
    "    \n",
    "    주피터 노트북으로 실행 시\n",
    "    !pip install [패키지명]\n",
    "    \n",
    "    아나콘다 환경으로 python 환경설정 시 기본적으로 Numpy 설치가 되어있음"
   ]
  },
  {
   "cell_type": "code",
   "execution_count": null,
   "metadata": {
    "id": "S-CLYFwdNdxh"
   },
   "outputs": [],
   "source": [
    "# 주피터 노트북 or 코랩에서 numpy 설치 시\n",
    "!pip install numpy"
   ]
  },
  {
   "cell_type": "code",
   "execution_count": 2,
   "metadata": {
    "executionInfo": {
     "elapsed": 763,
     "status": "ok",
     "timestamp": 1611472606689,
     "user": {
      "displayName": "변치웅",
      "photoUrl": "https://lh6.googleusercontent.com/-XnmjyF_k95g/AAAAAAAAAAI/AAAAAAAAZLk/rRDS8PNaZwg/s64/photo.jpg",
      "userId": "13348118648559709563"
     },
     "user_tz": -540
    },
    "id": "Dw5Ai4-BO862"
   },
   "outputs": [],
   "source": [
    "# 넘파이를 import 하고 np라는 닉네임으로 사용한다.\n",
    "import numpy as np\n",
    "# 관례적으로 np라는 약자를 많이 사용하게 됩니다.\n",
    "# 파이썬을 사용하는 대부분의 유저들이 사용하고 있는 닉네임이니 이건 꼭 지켜서 사용해주시는 것을 추천드립니다."
   ]
  },
  {
   "cell_type": "markdown",
   "metadata": {
    "id": "khavwywFS2LK"
   },
   "source": [
    "## **2. Numpy function**\n",
    "    numpy는 컴퓨팅연산을 위한 다양한 연산함수를 제공합니다.\n",
    "    자주 사용하는 함수 위주로 살펴보겠습니다.\n",
    "    \n",
    "    연산함수 기본구조\n",
    "    ex) np.sum(연산대상, axis=연산방향)"
   ]
  },
  {
   "cell_type": "code",
   "execution_count": 23,
   "metadata": {
    "executionInfo": {
     "elapsed": 711,
     "status": "ok",
     "timestamp": 1611473923808,
     "user": {
      "displayName": "변치웅",
      "photoUrl": "https://lh6.googleusercontent.com/-XnmjyF_k95g/AAAAAAAAAAI/AAAAAAAAZLk/rRDS8PNaZwg/s64/photo.jpg",
      "userId": "13348118648559709563"
     },
     "user_tz": -540
    },
    "id": "0pFnb4ZwVAw2"
   },
   "outputs": [],
   "source": [
    "# 함수 예제를 위한 데이터셋\n",
    "test_list = [1, 2, 3, 4]\n",
    "test_list2 = [[1, 3], [5, 7]]\n",
    "test_flist = [1, 3.14, -4.5]\n",
    "test_list_2nd = [[1, 2, 3],\n",
    "              [4, 5, 6],\n",
    "              [7, 8, 9]]\n",
    "test_list_3rd = [[[1, 2, 3, 4],\n",
    "              [5, 6, 7, 8]],\n",
    "              \n",
    "              [[1, 2, 3, 4],\n",
    "               [5, 6, 7, 8]],\n",
    "\n",
    "              [[1, 2, 3, 4],\n",
    "               [5, 6, 7, 8]]]\n",
    "test_exp = [0, 1, 10]\n",
    "test_nan = [0, np.nan, np.inf]"
   ]
  },
  {
   "cell_type": "markdown",
   "metadata": {
    "id": "qsXvRLz1TCSq"
   },
   "source": [
    "### 수리연산\n",
    "    - prod()\n",
    "    - dot()\n",
    "    - sum()\n",
    "    - cumprod()\n",
    "    - cumsum()\n",
    "    - abs()\n",
    "    - sqaure()\n",
    "    - sqrt()\n",
    "    - exp()\n",
    "    - log()"
   ]
  },
  {
   "cell_type": "markdown",
   "metadata": {
    "id": "CHInq26yTHiG"
   },
   "source": [
    "### 통계연산\n",
    "    - mean()\n",
    "    - std()\n",
    "    - var()\n",
    "    - max()\n",
    "    - min()\n",
    "    - argmax()\n",
    "    - argmin()\n",
    " "
   ]
  },
  {
   "cell_type": "markdown",
   "metadata": {
    "id": "PnYBUMg1TPfK"
   },
   "source": [
    "### 로직연산\n",
    "    - arange()\n",
    "    - isnan()\n",
    "    - isinf()\n",
    "    - unique()"
   ]
  },
  {
   "cell_type": "markdown",
   "metadata": {
    "id": "8QV3Aeq5TUDU"
   },
   "source": [
    "### 기하\n",
    "    - shape()\n",
    "    - reshape()\n",
    "    - ndim()\n",
    "    - transpose()\n",
    "    \n",
    "각종 연산 함수 참고: https://numpy.org/doc/stable/reference/routines.math.html"
   ]
  },
  {
   "cell_type": "markdown",
   "metadata": {
    "id": "eYRb7uB3PrCm"
   },
   "source": [
    "## **3. Numpy array (배열, 행렬)**\n",
    "    numpy 연산의 기본이 되는 데이터 구조입니다.\n",
    "    리스트보다 간편하게 만들 수 있으며 연산이 빠른 장점이 있습니다.\n",
    "    브로드캐스팅 연산을 지원합니다.\n",
    "    단, 같은 type의 데이터만 저장 가능합니다.\n",
    "    \n",
    "    array 또한 numpy의 기본 함수로서 생성 가능합니다.\n",
    "    array 함수 호출 기본구조\n",
    "    \n",
    "    ex) np.array(배열변환 대상 데이터)\n",
    "    ex) np.arange(start, end, step_forward)"
   ]
  },
  {
   "cell_type": "code",
   "execution_count": 8,
   "metadata": {
    "executionInfo": {
     "elapsed": 796,
     "status": "ok",
     "timestamp": 1611472705540,
     "user": {
      "displayName": "변치웅",
      "photoUrl": "https://lh6.googleusercontent.com/-XnmjyF_k95g/AAAAAAAAAAI/AAAAAAAAZLk/rRDS8PNaZwg/s64/photo.jpg",
      "userId": "13348118648559709563"
     },
     "user_tz": -540
    },
    "id": "RmaAVOzmQH8r"
   },
   "outputs": [],
   "source": [
    "# 기존 데이터 구조를 array로 변환\n",
    "test_array = np.array(test_list)\n",
    "test_array2 = np.array(test_list2)\n",
    "test_farray = np.array(test_flist)\n",
    "test_array_2nd = np.array(test_list_2nd)\n",
    "test_array_3rd = np.array(test_list_3rd)"
   ]
  },
  {
   "cell_type": "code",
   "execution_count": null,
   "metadata": {
    "id": "5wZXRjJAQnbl"
   },
   "outputs": [],
   "source": [
    "# np.arange 함수로 생성\n",
    "range_array = np.arange(10)\n",
    "range_array"
   ]
  },
  {
   "cell_type": "markdown",
   "metadata": {
    "id": "HDHfn_rHQ7kJ"
   },
   "source": [
    "### 3-1. 특수한 형태의 array를 함수로 생성\n",
    "\n",
    "함수 호출의 기본구조\n",
    "    \n",
    "    ex) np.ones([자료구조 shape])\n",
    "    자료구조 shape은 정수, []리스트, ()튜플 로만 입력가능합니다.\n",
    "    \n",
    "    - ones\n",
    "    - zeros\n",
    "    - empty\n",
    "    - eye"
   ]
  },
  {
   "cell_type": "markdown",
   "metadata": {
    "id": "po-jnGs0Rtod"
   },
   "source": [
    "### 3-2. array 속성 및 내장함수\n",
    "np.array에는 굉장히 유용한 수리, 통계 연산을 위한 함수가 갖추어져 있습니다.\n",
    "다차원 기하학적 연산을 위한 함수도 함께 살펴보겠습니다.\n",
    "    \n",
    "    array 내장 속성 호출 기본구조\n",
    "    ex) test_array.ndim\n",
    "    \n",
    "자주 사용하는 속성 shape, dtype, ndim, T\n",
    "    \n",
    "    array 내장함수 호출 기본구조\n",
    "    ex) test_array.prod()\n",
    "\n",
    "위에 학습한 np.sum() 과는 달리 array 변수의 인자를 받아 그대로 사용합니다."
   ]
  },
  {
   "cell_type": "markdown",
   "metadata": {
    "id": "gzehV78wXfpJ"
   },
   "source": [
    "## **4. array 연산**\n",
    "    컴퓨팅 연산을 위한 패키지인 만큼 편리한 배열 연산 기능을 지원합니다.\n",
    "    여러 numpy 연산을 통해 다른 자료구조와의 연산 차이를 알아봅시다."
   ]
  },
  {
   "cell_type": "markdown",
   "metadata": {
    "id": "t9QEIFsIXtKl"
   },
   "source": [
    "### 4-1. 데이터분석을 위한 잠깐의 교양 수학\n",
    "    numpy는 기본적으로 수리적 컴퓨팅을 위한 패키지 입니다.\n",
    "    선형대수학을 약간만 이해한다면 데이터를 훨씬 더 깊이있게 다룰 수 있습니다.\n",
    "\n",
    "#### 스칼라\n",
    "    1, 3.14, 실수 혹은 정수\n",
    "\n",
    "#### 벡터\n",
    "    [1, 2, 3, 4], '안녕하세요'\n",
    "\n",
    "#### 3 X 4 매트릭스    \n",
    "    [[1, 2, 3, 4],\n",
    "     [5, 6, 7, 8],\n",
    "     [9, 0, 11, 12]]\n",
    "     \n",
    "#### 2 X 3 X 4 텐서\n",
    "    [[[1, 2, 3, 4],\n",
    "     [5, 6, 7, 8],\n",
    "     [9, 0, 11, 12]],\n",
    "     [[1, 2, 3, 4], \n",
    "     [5, 6, 7, 8],\n",
    "     [9, 0, 11, 12]]]\n",
    "\n",
    "#### 데이터 형태에 따른 사칙연산\n",
    "    스칼라 +, -, *, / -> 결과도 스칼라\n",
    "    벡터 +, -, 내적 -> +, - 결과는 벡터, 내적 결과는 스칼라\n",
    "    매트릭스 +, -, *, /\n",
    "    텐서 +, -, *, /"
   ]
  },
  {
   "cell_type": "markdown",
   "metadata": {
    "id": "XvSiEVOQYEdR"
   },
   "source": [
    "### 4-2. 데이터분석에 자주 사용하는 특수한 연산\n",
    "    벡터와 벡터의 내적\n",
    "    \n",
    "$$\\begin{bmatrix}1 & 2 & 3 & 4 \\end{bmatrix} \\times \\begin{bmatrix}1 \\\\ 2 \\\\ 3 \\\\ 4 \\end{bmatrix} = 1 * 1 + \\\n",
    "2 * 2 + 3 * 3 + 4 * 4 = 20$$\n",
    "# $$ A^TA $$"
   ]
  },
  {
   "cell_type": "markdown",
   "metadata": {
    "id": "9ayvM8MKYNzj"
   },
   "source": [
    "#### 벡터와 벡터의 내적이 이루어지려면\n",
    "    \n",
    "    1. 벡터가 마주하는 shape의 갯수(길이)가 같아야 합니다.\n",
    "    2. 연산 앞에 위치한 벡터는 전치(transpose) 되어야 합니다.\n",
    "\n",
    "\n",
    "참고이미지 : https://ko.wikipedia.org/wiki%EC%A0%84%EC%B9%98%ED%96%89%EB%A0%AC\n",
    "    "
   ]
  },
  {
   "cell_type": "markdown",
   "metadata": {
    "id": "wlttn0_maNXg"
   },
   "source": [
    "#### 벡터 내적으로 방정식 구현\n",
    "\n",
    "$$y = \\begin{bmatrix}1 & 2 & 1 \\end{bmatrix} \\times \\begin{bmatrix}x_1 \\\\ x_2 \\\\ x_3 \\\\ \\end{bmatrix} = 1 * x_1 + \\\n",
    "2 * x_2 + 1 * x_3 = x_1 + 2x_2 + x_3$$"
   ]
  },
  {
   "cell_type": "markdown",
   "metadata": {
    "id": "oaVuTOyYaSkU"
   },
   "source": [
    "### 4-3. broadcating(브로드캐스팅)\n"
   ]
  },
  {
   "cell_type": "code",
   "execution_count": 33,
   "metadata": {
    "colab": {
     "base_uri": "https://localhost:8080/",
     "height": 392
    },
    "executionInfo": {
     "elapsed": 1599,
     "status": "ok",
     "timestamp": 1611475469500,
     "user": {
      "displayName": "변치웅",
      "photoUrl": "https://lh6.googleusercontent.com/-XnmjyF_k95g/AAAAAAAAAAI/AAAAAAAAZLk/rRDS8PNaZwg/s64/photo.jpg",
      "userId": "13348118648559709563"
     },
     "user_tz": -540
    },
    "id": "NDZrL0RraMXT",
    "outputId": "6f6ff276-cd2e-47aa-f45a-765997797150"
   },
   "outputs": [
    {
     "data": {
      "image/png": "[encoded data removed]",
      "text/plain": [
       "<IPython.core.display.Image object>"
      ]
     },
     "execution_count": 33,
     "metadata": {
      "tags": []
     },
     "output_type": "execute_result"
    }
   ],
   "source": [
    "참고이미지 : http://www.astroml.org/book_figures/appendix/fig_broadcast_visual.html"
   ]
  },
  {
   "cell_type": "code",
   "execution_count": null,
   "metadata": {
    "id": "OeNTi-5ybBN8"
   },
   "outputs": [],
   "source": [
    "# test_list 와 test_array 의 연산비교\n",
    "test_list, test_array"
   ]
  },
  {
   "cell_type": "markdown",
   "metadata": {
    "id": "YggRJoEgdv2q"
   },
   "source": [
    "## **5. array 인덱싱, 슬라이싱**\n",
    "    기본적으로 자료구조란 데이터의 묶음, 그 묶음을 관리 할 수 있는 바구니를 이야기 합니다.\n",
    "    데이터 분석을 위해 바구니를 사용하지만 바구니 안에 있는 내용에 접근을 해야 할 경우도 있습니다.\n",
    "    \n",
    "    인덱싱이란?\n",
    "    데이터 바구니 안에 든 내용 하나에 접근하는 명령, 인덱스는 내용의 순번\n",
    "    \n",
    "    슬라이싱이란?\n",
    "    데이터 바구니 안에 든 내용 여러가지에 접근 하는 명령\n",
    "    \n",
    "    기본적으로 인덱싱과 슬라이싱의 색인은 리스트와 동일합니다."
   ]
  },
  {
   "cell_type": "code",
   "execution_count": 51,
   "metadata": {
    "executionInfo": {
     "elapsed": 973,
     "status": "ok",
     "timestamp": 1611476347333,
     "user": {
      "displayName": "변치웅",
      "photoUrl": "https://lh6.googleusercontent.com/-XnmjyF_k95g/AAAAAAAAAAI/AAAAAAAAZLk/rRDS8PNaZwg/s64/photo.jpg",
      "userId": "13348118648559709563"
     },
     "user_tz": -540
    },
    "id": "y_Gz6fkvcsrA"
   },
   "outputs": [],
   "source": [
    "# 샘플데이터셋\n",
    "index_test = np.array(range(10))\n",
    "index_test2 = np.array(range(25)).reshape([5, 5])\n",
    "index_test3 = np.array(range(27)).reshape([3, 3, 3])"
   ]
  },
  {
   "cell_type": "code",
   "execution_count": 50,
   "metadata": {
    "colab": {
     "base_uri": "https://localhost:8080/"
    },
    "executionInfo": {
     "elapsed": 924,
     "status": "ok",
     "timestamp": 1611476325999,
     "user": {
      "displayName": "변치웅",
      "photoUrl": "https://lh6.googleusercontent.com/-XnmjyF_k95g/AAAAAAAAAAI/AAAAAAAAZLk/rRDS8PNaZwg/s64/photo.jpg",
      "userId": "13348118648559709563"
     },
     "user_tz": -540
    },
    "id": "E-8GN3DOeGLc",
    "outputId": "463eb7f6-e6ac-4b13-f55a-a87ac9984303"
   },
   "outputs": [
    {
     "data": {
      "text/plain": [
       "array([[[ 0,  1,  2],\n",
       "        [ 3,  4,  5],\n",
       "        [ 6,  7,  8]],\n",
       "\n",
       "       [[ 9, 10, 11],\n",
       "        [12, 13, 14],\n",
       "        [15, 16, 17]],\n",
       "\n",
       "       [[18, 19, 20],\n",
       "        [21, 22, 23],\n",
       "        [24, 25, 26]]])"
      ]
     },
     "execution_count": 50,
     "metadata": {
      "tags": []
     },
     "output_type": "execute_result"
    }
   ],
   "source": [
    "index_test3"
   ]
  },
  {
   "cell_type": "markdown",
   "metadata": {
    "id": "BEgAJKZsedGq"
   },
   "source": [
    "### 여러가지 인덱싱 및 슬라이싱 방법을 시도해봅시다"
   ]
  },
  {
   "cell_type": "code",
   "execution_count": null,
   "metadata": {
    "id": "5VFYBvmAefqh"
   },
   "outputs": [],
   "source": []
  }
 ],
 "metadata": {
  "colab": {
   "authorship_tag": "ABX9TyMQU+Lx2l1SH9MYCw/eoRfX",
   "collapsed_sections": [
    "MsamyzIBN81o",
    "khavwywFS2LK",
    "eYRb7uB3PrCm",
    "gzehV78wXfpJ",
    "YggRJoEgdv2q"
   ],
   "mount_file_id": "1SuQoPQdeu035x8q16ESweT0pFbgm6tNA",
   "name": "05_numpy.ipynb",
   "provenance": []
  },
  "kernelspec": {
   "display_name": "Python 3",
   "language": "python",
   "name": "python3"
  },
  "language_info": {
   "codemirror_mode": {
    "name": "ipython",
    "version": 3
   },
   "file_extension": ".py",
   "mimetype": "text/x-python",
   "name": "python",
   "nbconvert_exporter": "python",
   "pygments_lexer": "ipython3",
   "version": "3.8.5"
  }
 },
 "nbformat": 4,
 "nbformat_minor": 1
}
