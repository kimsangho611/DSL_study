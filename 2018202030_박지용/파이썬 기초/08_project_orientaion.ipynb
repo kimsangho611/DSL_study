{
 "cells": [
  {
   "cell_type": "markdown",
   "metadata": {
    "slideshow": {
     "slide_type": "slide"
    }
   },
   "source": [
    "# 프로젝트 아이데이션"
   ]
  },
  {
   "cell_type": "markdown",
   "metadata": {
    "slideshow": {
     "slide_type": "slide"
    }
   },
   "source": [
    "## 1. 데이터 분석 프로젝트란?\n",
    "문제정의에 따라 데이터를 수집, 분석, 모델링을 거쳐 결과물을 만들어내는 전 과정\n",
    "\n",
    "데이터 과학자의 관점에서 데이터를 연구\n",
    "\n",
    "데이터를 연구하기에 다양한 필드에 적용이 가능하다"
   ]
  },
  {
   "cell_type": "markdown",
   "metadata": {
    "slideshow": {
     "slide_type": "slide"
    }
   },
   "source": [
    "## 2. 프로세스\n",
    "1. 문제정의\n",
    "2. 데이터수집\n",
    "3. 데이터탐색\n",
    "4. 데이터전처리\n",
    "5. 모델링\n",
    "6. 모델평가\n",
    "7. 결과보고서 작성"
   ]
  },
  {
   "cell_type": "markdown",
   "metadata": {
    "slideshow": {
     "slide_type": "slide"
    }
   },
   "source": [
    "### 2-1. 문제정의\n",
    "프로젝트의 시작, 동기\n",
    "\n",
    "현업 프로젝트 컨설팅 시 가장 어려워하는 부분\n",
    "\n",
    "문제정의 전 무엇을 할 수 있는지 파악이 필요함"
   ]
  },
  {
   "cell_type": "markdown",
   "metadata": {
    "slideshow": {
     "slide_type": "slide"
    }
   },
   "source": [
    "### 잠깐 커리큘럼을 넘어서서 머신러닝의 기본컨셉\n",
    "\n",
    "# $$y = f(x)$$\n",
    "\n",
    "* $y$ = 해결해야 하는 문제 (종속변수, target data)\n",
    "* $f()$ = 머신러닝 알고리즘 (모델)\n",
    "* $x$ = 훈련데이터 (설명변수, train data)\n",
    "\n",
    "### 문제정의는 결국 $y$를 어떻게 풀어낼 것인가에 대한 기획"
   ]
  },
  {
   "cell_type": "markdown",
   "metadata": {
    "slideshow": {
     "slide_type": "slide"
    }
   },
   "source": [
    "### 해결 가능한 $y$ 의 종류 및 정의\n",
    "\n",
    "* 예측(prediction):\n",
    "종속변수가 연속형 데이터\n",
    "    \n",
    "    연속형 데이터 - 매출데이터, 온도, 시간등\n",
    "    \n",
    "    \n",
    "* 분류(classification, clustring):\n",
    "종속변수가 범주형 데이터\n",
    "\n",
    "    범주형 데이터 - 성별, 신용등급, 브랜드, 기차역등\n",
    "\n",
    "#### 예측은 무조건 과거 데이터가 있어야 합니다."
   ]
  },
  {
   "cell_type": "markdown",
   "metadata": {
    "slideshow": {
     "slide_type": "slide"
    }
   },
   "source": [
    "### 2-1. 문제정의\n",
    "통계적 배경지식이 중요(업무 base)\n",
    "\n",
    "1개의 데이터셋에서 1개의 문제를 해결하는 것을 기본으로 함\n",
    "\n",
    "    문제정의 예시\n",
    "    * 기존고객 개인정보를 바탕으로 한 신규고객 고객군 분류\n",
    "    - 종속변수 : 신규고객 고객군 분류\n",
    "    - 설명변수 : 기존고객 개인정보\n",
    "      (성별, 나이, 지역, 소득, 신용정보, 가입정도등등)\n",
    "    - 모델 : 분류문제를 해결하기 위한 classification\n",
    "복잡한 문제를 해결해야 할 경우 위의 1개 문제 = 1개 데이터셋의 원칙을 지키면 혼동이 덜 함    "
   ]
  },
  {
   "cell_type": "markdown",
   "metadata": {
    "slideshow": {
     "slide_type": "slide"
    }
   },
   "source": [
    "### 2-2. 데이터수집\n",
    "분석에 필요한 설명변수, 종속변수에 따라 데이터 수집\n",
    "\n",
    "    사내데이터 활용\n",
    "    데이터셋 활용\n",
    "    크롤링\n",
    "    API\n",
    "    \n",
    "실제 수집이 불가능한 데이터가 있을 수 있음"
   ]
  },
  {
   "cell_type": "markdown",
   "metadata": {
    "slideshow": {
     "slide_type": "slide"
    }
   },
   "source": [
    "### 2-3. 데이터탐색\n",
    "\n",
    "pandas, 시각화등 다양한 EDA 방법을 사용하여 수집데이터를 흝어보는 과정\n",
    "\n",
    "수집된 데이터가 문제에 적합하지 않거나 사용이 불가능한 경우가 있을 수 있음"
   ]
  },
  {
   "cell_type": "markdown",
   "metadata": {
    "slideshow": {
     "slide_type": "slide"
    }
   },
   "source": [
    "### 2-4. 데이터전처리\n",
    "수집된 데이터를 모델링이 가능한 형태로 가공\n",
    "\n",
    "추후 데이터전처리 특강에서 다룰예정\n",
    "\n",
    "데이터 병합, 데이터 형변환, 더미화, 클래스불균형 해결, 차원축소등"
   ]
  },
  {
   "cell_type": "markdown",
   "metadata": {
    "slideshow": {
     "slide_type": "slide"
    }
   },
   "source": [
    "### 2-5. 모델링\n",
    "실제로 가장 손쉬운 과정\n",
    "\n",
    "문제해결에 알맞는 모델 탐색 및 최적모델 탐색\n",
    "\n",
    "사람의 공수가 아닌 하드웨어 스펙에 따라 작업시간 단축"
   ]
  },
  {
   "cell_type": "markdown",
   "metadata": {
    "slideshow": {
     "slide_type": "slide"
    }
   },
   "source": [
    "### 2-6. 모델평가\n",
    "고객군 분류가 되어있지 않은 신규고객데이터를 모델에 적용하여\n",
    "\n",
    "기존분류 고객과 차이를 여러가지 방법으로 산출하여 평가"
   ]
  },
  {
   "cell_type": "markdown",
   "metadata": {
    "slideshow": {
     "slide_type": "slide"
    }
   },
   "source": [
    "### 2-7. 결과보고서 작성\n",
    "문제정의부터 모델평가까지 데이터분석 프로젝트 전 과정에 대한 진행경과, 결과, 문제점, 해결방법을 기술"
   ]
  },
  {
   "cell_type": "markdown",
   "metadata": {
    "slideshow": {
     "slide_type": "slide"
    }
   },
   "source": [
    "## 3. 실제 수행 프로젝트 살펴보기\n",
    "실제 수행 프로젝트를 살펴보면서 프로젝트의 구성과 프로세스를 알아봅니다.\n",
    "    \n",
    "* 에어비앤비 1박 가격 예측 프로젝트\n",
    "https://github.com/overgroove/Airbnb_linearregression\n",
    "    \n",
    "* NBA 선수 클러스터링\n",
    "https://github.com/overgroove/NBA_position_clustering"
   ]
  },
  {
   "cell_type": "markdown",
   "metadata": {
    "slideshow": {
     "slide_type": "slide"
    }
   },
   "source": [
    "## 4. 현업 프로젝트 예시\n",
    "#### 금융권\n",
    "    1. 카드사 부정사용\n",
    "      부정사용목록의 라벨링(정상, 비정상) 데이터를 사용하여 지도학습\n",
    "      특이점이 있는 카드 사용에 대한 검출 eg. 해외사용\n",
    "      타겟데이터의 클래스 불균형 문제 (비정상 데이터가 적음)\n",
    "    \n",
    "    2. 로보어드바이저\n",
    "      증권사의 종목추천 알고리즘\n",
    "      개별종목, 유저기반 데이터, 증권사 리포트 데이터를 사용하여 학습\n",
    "      현재까지는 수동"
   ]
  },
  {
   "cell_type": "markdown",
   "metadata": {
    "slideshow": {
     "slide_type": "slide"
    }
   },
   "source": [
    "## 4. 현업 프로젝트 예시\n",
    "#### 금융권\n",
    "\n",
    "    3. 금융상품 추천\n",
    "      고객개인데이터학습 혹은 가입상품기반추천알고리즘사용 \n",
    "      모델평가가어려움"
   ]
  },
  {
   "cell_type": "markdown",
   "metadata": {
    "slideshow": {
     "slide_type": "slide"
    }
   },
   "source": [
    "## 4. 현업 프로젝트 예시\n",
    "#### 제조업\n",
    "    1. 불량검출\n",
    "      제조공정 로그데이터 불량라벨링 데이터를 학습\n",
    "      각 제조 과정에서 발생가능한 불량요소를 검출, 불량률 감소에 활용\n",
    "      라벨링 어려움, 전처리 복잡\n",
    "    2. 공정최적화\n",
    "      각 공정 로그데이터와 결과물에 대한 데이터 학습\n",
    "      반도체, 자동차등 전통제조업에서 활용, 공정오류 및 위험 감지"
   ]
  },
  {
   "cell_type": "markdown",
   "metadata": {
    "slideshow": {
     "slide_type": "slide"
    }
   },
   "source": [
    "## 4. 현업 프로젝트 예시\n",
    "#### 제조업\n",
    "    3. IoT 활용\n",
    "      고객센터 음성데이터 학습\n",
    "      음성인식모델활용(사내 데이터의 창의적인 활용)\n",
    "      대용량데이터 처리문제"
   ]
  },
  {
   "cell_type": "markdown",
   "metadata": {
    "slideshow": {
     "slide_type": "slide"
    }
   },
   "source": [
    "## 4. 현업 프로젝트 예시\n",
    "#### IT, 이커머스\n",
    "    1. 스팸메일필터\n",
    "      키워드 기반 나이브베이지안 모델 활용\n",
    "      오래된 머신러닝 기법, 예측력 우수\n",
    "    2. 번역기, 챗봇\n",
    "      텍스트데이터 학습 딥러닝모델 활용\n",
    "      모델학습에 필요한 데이터의 양에 따라 정확도 상승"
   ]
  },
  {
   "cell_type": "markdown",
   "metadata": {
    "slideshow": {
     "slide_type": "slide"
    }
   },
   "source": [
    "## 4. 현업 프로젝트 예시\n",
    "#### IT, 이커머스\n",
    "    3. 상품추천, 배송최적화\n",
    "      고객별 상품결제, 상품 카테고리 데이터 학습, 주소기반 데이터 학습 \n",
    "      고객기반, 상품기반 연관알고리즘\n",
    "    4. 자율주행 자동차"
   ]
  },
  {
   "cell_type": "markdown",
   "metadata": {
    "slideshow": {
     "slide_type": "slide"
    }
   },
   "source": [
    "## 5 .프로젝트 가이드라인\n",
    "    1. 프로젝트 수행목적, 동기\n",
    "    2. 사용할 데이터의 변수 설명 (수집경로, 단위 포함)\n",
    "    3. 최소 10,000개 샘플 사용\n",
    "    4. 모델 선택 및 최적화과정 포함\n",
    "    5. 솔루션 제공 및 문제점 도출\n",
    "    \n",
    "상기 내용은 강제하는 내용은 아니지만 포함될 경우 좋은 프로젝트로 평가받는 요소들 입니다."
   ]
  },
  {
   "cell_type": "markdown",
   "metadata": {
    "slideshow": {
     "slide_type": "slide"
    }
   },
   "source": [
    "## 6. 아이데이션\n",
    "\n",
    "https://bit.ly/3hFhizv"
   ]
  }
 ],
 "metadata": {
  "celltoolbar": "Slideshow",
  "kernelspec": {
   "display_name": "Python 3",
   "language": "python",
   "name": "python3"
  },
  "language_info": {
   "codemirror_mode": {
    "name": "ipython",
    "version": 3
   },
   "file_extension": ".py",
   "mimetype": "text/x-python",
   "name": "python",
   "nbconvert_exporter": "python",
   "pygments_lexer": "ipython3",
   "version": "3.8.5"
  }
 },
 "nbformat": 4,
 "nbformat_minor": 2
}
