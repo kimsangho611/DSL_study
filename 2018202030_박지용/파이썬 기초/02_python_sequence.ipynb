{
 "cells": [
  {
   "cell_type": "markdown",
   "metadata": {
    "id": "ZQc6-S5wTDnQ"
   },
   "source": [
    "# **자료구조**\n",
    "    데이터의 집합\n",
    "    데이터가 들어가 있는 바구니\n",
    "    변수에 저장할 수 있는 데이터의 집합\n",
    "\n",
    "    리스트, 딕셔너리, 튜플"
   ]
  },
  {
   "cell_type": "markdown",
   "metadata": {
    "id": "rPbql-LHiOBv"
   },
   "source": [
    "## **1. 리스트(list)**\n",
    "    파이썬에서 가장 흔히 사용하는 데이터의 자료구조\n",
    "    순서가 있다.\n",
    "    [ ] 대괄호로 묶어 사용한다.\n",
    "    리스트 안에 들어가는 요소들은 ,(쉼표)로 구분한다."
   ]
  },
  {
   "cell_type": "markdown",
   "metadata": {
    "id": "lSi0xkjoTDnW"
   },
   "source": [
    "### 1-1. list의 생성"
   ]
  },
  {
   "cell_type": "code",
   "execution_count": 2,
   "metadata": {
    "id": "olV5z-zoTDnW"
   },
   "outputs": [],
   "source": [
    "empty_list = list() # 혹은 아래와 같이 간단하게 생성도 가능\n",
    "empty_list =[]"
   ]
  },
  {
   "cell_type": "code",
   "execution_count": 3,
   "metadata": {
    "id": "2ZtzDJbzTDnX"
   },
   "outputs": [],
   "source": [
    "# wallet 이라는 변수에 아래의 5개 텍스트 데이터가 들어가 있는 리스트를 저장\n",
    "# 'coin', 'card', 'cash', 'id', 'licence'\n",
    "\n",
    "wallet = ['coin', 'card', 'cash', 'id', 'licence']"
   ]
  },
  {
   "cell_type": "code",
   "execution_count": 4,
   "metadata": {},
   "outputs": [
    {
     "output_type": "execute_result",
     "data": {
      "text/plain": [
       "['coin', 'card', 'cash', 'id', 'licence']"
      ]
     },
     "metadata": {},
     "execution_count": 4
    }
   ],
   "source": [
    "wallet"
   ]
  },
  {
   "cell_type": "code",
   "execution_count": 5,
   "metadata": {
    "id": "E11dHCaJTDnX"
   },
   "outputs": [],
   "source": [
    "test_list =[1, 2, 3.14, '테스트', wallet]"
   ]
  },
  {
   "cell_type": "markdown",
   "metadata": {
    "id": "Ems_1MmlTDnY"
   },
   "source": [
    "### 1-2. list 정보 확인"
   ]
  },
  {
   "cell_type": "code",
   "execution_count": 6,
   "metadata": {
    "id": "zCLz5UroTDnZ"
   },
   "outputs": [
    {
     "output_type": "execute_result",
     "data": {
      "text/plain": [
       "5"
      ]
     },
     "metadata": {},
     "execution_count": 6
    }
   ],
   "source": [
    "# 리스트 전체 항목의 갯수를 보고싶다면?\n",
    "len(test_list)"
   ]
  },
  {
   "cell_type": "code",
   "execution_count": 47,
   "metadata": {
    "id": "5yu3Ke5uhMKW"
   },
   "outputs": [
    {
     "output_type": "execute_result",
     "data": {
      "text/plain": [
       "3"
      ]
     },
     "metadata": {},
     "execution_count": 47
    }
   ],
   "source": [
    "# 리스트 내 특정 항목의 갯수를 확인하고 싶다면?\n",
    "temp_list = [1, 1, 1, 2, 2, 2, 3, 3, 4, 10]\n",
    "temp_list.count(1)"
   ]
  },
  {
   "cell_type": "code",
   "execution_count": 8,
   "metadata": {
    "id": "CGzX_BKFhLyW"
   },
   "outputs": [
    {
     "output_type": "execute_result",
     "data": {
      "text/plain": [
       "(2351, 1)"
      ]
     },
     "metadata": {},
     "execution_count": 8
    }
   ],
   "source": [
    "# 최대 최소 값\n",
    "test_list2= [1,23,24,4,235,2351]\n",
    "max(test_list2) , min(test_list2)"
   ]
  },
  {
   "cell_type": "markdown",
   "metadata": {
    "id": "-EhpUrv1TDnZ"
   },
   "source": [
    "### 1-3. list indexing(인덱싱), slicing(슬라이싱)\n",
    "    리스트의 특정 항목을 확인하는 방법\n",
    "    인덱싱은 하나, 슬라이싱은 여러개\n",
    "    리스트의 순서를 인덱스라고 하며 0부터 시작"
   ]
  },
  {
   "cell_type": "code",
   "execution_count": 9,
   "metadata": {
    "id": "sd1fAVJZTDna"
   },
   "outputs": [
    {
     "output_type": "stream",
     "name": "stdout",
     "text": [
      "4\n"
     ]
    }
   ],
   "source": [
    "# 인덱싱\n",
    "# 리스트의 4번째 항목 가져오기\n",
    "print(test_list2[3])"
   ]
  },
  {
   "cell_type": "code",
   "execution_count": 10,
   "metadata": {
    "id": "7J2AveHXTDna"
   },
   "outputs": [
    {
     "output_type": "execute_result",
     "data": {
      "text/plain": [
       "[1, 23, 24]"
      ]
     },
     "metadata": {},
     "execution_count": 10
    }
   ],
   "source": [
    "# 슬라이싱\n",
    "# 리스트의 첫번째 항목부터 3번째 항목까지 가져오기\n",
    "test_list2[0:3]"
   ]
  },
  {
   "cell_type": "code",
   "execution_count": 11,
   "metadata": {
    "id": "V5JYfHyiTDna"
   },
   "outputs": [
    {
     "output_type": "execute_result",
     "data": {
      "text/plain": [
       "[4, 235, 2351]"
      ]
     },
     "metadata": {},
     "execution_count": 11
    }
   ],
   "source": [
    "# 리스트의 4번째 항목부터 마지막 항목까지 가져오기\n",
    "test_list2[3:]"
   ]
  },
  {
   "cell_type": "code",
   "execution_count": 44,
   "metadata": {
    "id": "DLZMD1wvTDna"
   },
   "outputs": [
    {
     "output_type": "stream",
     "name": "stdout",
     "text": [
      "2351\n235\n"
     ]
    }
   ],
   "source": [
    "# 리스트의 맨 마지막 항목 가져오기\n",
    "print(test_list2[-1])\n",
    "print(test_list2[-2])"
   ]
  },
  {
   "cell_type": "code",
   "execution_count": 13,
   "metadata": {
    "id": "4WRqtebiTDnb"
   },
   "outputs": [
    {
     "output_type": "execute_result",
     "data": {
      "text/plain": [
       "[1, 24, 235]"
      ]
     },
     "metadata": {},
     "execution_count": 13
    }
   ],
   "source": [
    "# 리스트의 전체 항목 중 2의 배수 인덱스 항목가져오기\n",
    "test_list2[::2]"
   ]
  },
  {
   "cell_type": "code",
   "execution_count": 14,
   "metadata": {
    "id": "grGvSZIjTDnb"
   },
   "outputs": [
    {
     "output_type": "execute_result",
     "data": {
      "text/plain": [
       "3"
      ]
     },
     "metadata": {},
     "execution_count": 14
    }
   ],
   "source": [
    "# 리스트 내 특정항목의 인덱스 가져오기\n",
    "test_list2.index(4)"
   ]
  },
  {
   "cell_type": "code",
   "execution_count": 15,
   "metadata": {
    "id": "VE9blaAPTDnc"
   },
   "outputs": [
    {
     "output_type": "execute_result",
     "data": {
      "text/plain": [
       "'cash'"
      ]
     },
     "metadata": {},
     "execution_count": 15
    }
   ],
   "source": [
    "# test_list 의 cash를 인덱싱 해보자\n",
    "test_list[4][2]"
   ]
  },
  {
   "cell_type": "markdown",
   "metadata": {
    "id": "_02sNrAgTDnc"
   },
   "source": [
    "### 1-4. list 편집"
   ]
  },
  {
   "cell_type": "code",
   "execution_count": 48,
   "metadata": {
    "id": "BsaAEF4STDnc"
   },
   "outputs": [
    {
     "output_type": "stream",
     "name": "stdout",
     "text": [
      "[1, 23, 24, 4, 235, 2351, 1213]\n"
     ]
    }
   ],
   "source": [
    "# 리스트에 항목추가\n",
    "test_list2.append(1213)\n",
    "print(test_list2)"
   ]
  },
  {
   "cell_type": "code",
   "execution_count": 49,
   "metadata": {
    "id": "0tDIxddlTDnc"
   },
   "outputs": [
    {
     "output_type": "stream",
     "name": "stdout",
     "text": [
      "[1, 23, 4, 235, 2351, 1213]\n"
     ]
    }
   ],
   "source": [
    "# 리스트에 특정 항목 삭제\n",
    "del test_list2[2]\n",
    "print(test_list2)"
   ]
  },
  {
   "cell_type": "code",
   "execution_count": 52,
   "metadata": {
    "id": "713492VNTDnc"
   },
   "outputs": [
    {
     "output_type": "stream",
     "name": "stdout",
     "text": [
      "1213\n[1, 23, 4, 235, 2351]\n"
     ]
    }
   ],
   "source": [
    "# 리스트의 맨 마지막 항목 꺼내오기 (값도 꺼내면서 리스트의 마지막 항목 삭제)\n",
    "print(test_list2[-1])\n",
    "del test_list2[-1]\n",
    "print(test_list2)"
   ]
  },
  {
   "cell_type": "code",
   "execution_count": 54,
   "metadata": {
    "id": "JDsqThk7TDnd"
   },
   "outputs": [
    {
     "output_type": "stream",
     "name": "stdout",
     "text": [
      "[1, 4, 23, 235, 2351]\n[2351, 235, 23, 4, 1]\n"
     ]
    }
   ],
   "source": [
    "# 리스트의 값 정렬 (숫자는 오름차순, 문자는 알파벳순, 한글은 가나다순)\n",
    "\n",
    "# 역순은?\n",
    "print(test_list2)\n",
    "test_list2.sort(reverse = True)\n",
    "print(test_list2)\n"
   ]
  },
  {
   "cell_type": "code",
   "execution_count": 56,
   "metadata": {
    "id": "TT3QHLfZTDnd"
   },
   "outputs": [
    {
     "output_type": "stream",
     "name": "stdout",
     "text": [
      "[2351, 0, 23, 4, 1]\n"
     ]
    }
   ],
   "source": [
    "# 리스트 내 특정항목 업데이트\n",
    "test_list2[1] = 0\n",
    "print(test_list2)"
   ]
  },
  {
   "cell_type": "markdown",
   "metadata": {
    "id": "RXkRHTA0TDnd"
   },
   "source": [
    "### 1-5. list 연산"
   ]
  },
  {
   "cell_type": "code",
   "execution_count": 57,
   "metadata": {
    "id": "UTAqflz4TDnd"
   },
   "outputs": [],
   "source": [
    "# int형 데이터가 들어가 있는 num1, num2 리스트 생성\n",
    "num1 = [1, 2, 3]\n",
    "num2 = [4, 3, 19]\n"
   ]
  },
  {
   "cell_type": "code",
   "execution_count": 68,
   "metadata": {
    "id": "KFajszDPTDnd"
   },
   "outputs": [
    {
     "output_type": "stream",
     "name": "stdout",
     "text": [
      "1 4\n2 3\n3 19\n[5, 5, 22]\n"
     ]
    }
   ],
   "source": [
    "# 리스트 합\n",
    "sum_num = []\n",
    "\n",
    "for i in range(len(num1)):\n",
    "    print(num1[i], num2[i])\n",
    "    sum_num.append(num1[i] + num2[i])\n",
    "\n",
    "print(sum_num)\n"
   ]
  },
  {
   "cell_type": "code",
   "execution_count": 70,
   "metadata": {
    "id": "r2sLsdc2TDne"
   },
   "outputs": [
    {
     "output_type": "stream",
     "name": "stdout",
     "text": [
      "[4, 6, 57]\n"
     ]
    }
   ],
   "source": [
    "# 리스트 곱\n",
    "\n",
    "mul_num = []\n",
    "\n",
    "for i in range(len(num1)):\n",
    "    mul_num.append(num1[i] * num2[i])\n",
    "\n",
    "print(mul_num)\n"
   ]
  },
  {
   "cell_type": "code",
   "execution_count": 24,
   "metadata": {
    "id": "JgrnlMpRTDne"
   },
   "outputs": [],
   "source": [
    "# 검증"
   ]
  },
  {
   "cell_type": "markdown",
   "metadata": {
    "id": "OMmC3_xiTDne"
   },
   "source": [
    "### 1-6. list 삭제"
   ]
  },
  {
   "cell_type": "code",
   "execution_count": 72,
   "metadata": {
    "id": "hkj_0jN3TDnf"
   },
   "outputs": [
    {
     "output_type": "stream",
     "name": "stdout",
     "text": [
      "[4, 6, 57]\n[]\n"
     ]
    }
   ],
   "source": [
    "# clear 함수를 사용하여 list 안의 내용만 지우기\n",
    "\n",
    "print(mul_num)\n",
    "mul_num.clear()\n",
    "print(mul_num)"
   ]
  },
  {
   "cell_type": "code",
   "execution_count": 74,
   "metadata": {
    "id": "jc0Jut93g4uk"
   },
   "outputs": [
    {
     "output_type": "error",
     "ename": "NameError",
     "evalue": "name 'mul_num' is not defined",
     "traceback": [
      "\u001b[1;31m---------------------------------------------------------------------------\u001b[0m",
      "\u001b[1;31mNameError\u001b[0m                                 Traceback (most recent call last)",
      "\u001b[1;32m<ipython-input-74-987ca3ca246a>\u001b[0m in \u001b[0;36m<module>\u001b[1;34m\u001b[0m\n\u001b[0;32m      1\u001b[0m \u001b[1;31m# list 변수를 완전히 삭제\u001b[0m\u001b[1;33m\u001b[0m\u001b[1;33m\u001b[0m\u001b[1;33m\u001b[0m\u001b[0m\n\u001b[1;32m----> 2\u001b[1;33m \u001b[1;32mdel\u001b[0m \u001b[0mmul_num\u001b[0m\u001b[1;33m\u001b[0m\u001b[1;33m\u001b[0m\u001b[0m\n\u001b[0m\u001b[0;32m      3\u001b[0m \u001b[0mprint\u001b[0m\u001b[1;33m(\u001b[0m\u001b[0mmul_num\u001b[0m\u001b[1;33m)\u001b[0m\u001b[1;33m\u001b[0m\u001b[1;33m\u001b[0m\u001b[0m\n",
      "\u001b[1;31mNameError\u001b[0m: name 'mul_num' is not defined"
     ]
    }
   ],
   "source": [
    "# list 변수를 완전히 삭제\n",
    "del mul_num\n",
    "print(mul_num)"
   ]
  },
  {
   "cell_type": "markdown",
   "metadata": {
    "id": "5pInjo4gTDnf"
   },
   "source": [
    "## **2. 딕셔너리(dict)**\n",
    "    사전을 떠올려봅시다. 사전을 구성하고 있는 항목은?\n",
    "    단어 : 단어의 설명\n",
    "    딕셔너리는 말 그대로 사전과 같은 형태의 데이터 구조이다.\n",
    "    사전의 단어는 딕셔너리의 key\n",
    "    단어의 설명은 딕셔너리의 value값이라고 칭한다. 쌍으로 저장 가능\n",
    "    { } 중괄호로 묶어 사용한다.\n",
    "    key : value\n",
    "    딕셔너리 요소 구분은 리스트와 마찬가지로 쉼표"
   ]
  },
  {
   "cell_type": "markdown",
   "metadata": {
    "id": "xhPJ-7UMTDnf"
   },
   "source": [
    "### 2-1. dict 생성"
   ]
  },
  {
   "cell_type": "code",
   "execution_count": 27,
   "metadata": {
    "id": "RBE9TL8xTDnf"
   },
   "outputs": [],
   "source": [
    "# 빈 딕셔너리 생성\n",
    "wallt = {}"
   ]
  },
  {
   "cell_type": "code",
   "execution_count": 85,
   "metadata": {
    "id": "L7up_RS5TDnf"
   },
   "outputs": [],
   "source": [
    "# 값을 추가하면서 딕셔너리 생성\n",
    "wallet = {\n",
    "    'card':'신한카드',\n",
    "    'cash':75000,\n",
    "    'coin':{'500원':1,\n",
    "            '100원':1,},\n",
    "    'id':['주민등록증', '여권'],\n",
    "    'licence':'운전면허증'\n",
    "}\n",
    "\n",
    "dd = {'name' : \"박지용\", \"job\" : \"아싸\"}"
   ]
  },
  {
   "cell_type": "markdown",
   "metadata": {
    "id": "emfyBStcTDnf"
   },
   "source": [
    "### 2-2. dict 정보 확인"
   ]
  },
  {
   "cell_type": "code",
   "execution_count": 86,
   "metadata": {
    "id": "Q0iwocV3TDng"
   },
   "outputs": [
    {
     "output_type": "stream",
     "name": "stdout",
     "text": [
      "{'name': '박지용', 'job': '아싸'}\n"
     ]
    }
   ],
   "source": [
    "# dict의 구성요소 갯수 확인\n",
    "len(wallet)\n",
    "print(dd)"
   ]
  },
  {
   "cell_type": "code",
   "execution_count": 30,
   "metadata": {
    "id": "OnQIuzpIizqx"
   },
   "outputs": [
    {
     "output_type": "execute_result",
     "data": {
      "text/plain": [
       "dict_keys(['card', 'cash', 'coin', 'id', 'licence'])"
      ]
     },
     "metadata": {},
     "execution_count": 30
    }
   ],
   "source": [
    "# dict의 key 값 확인\n",
    "wallet.keys()"
   ]
  },
  {
   "cell_type": "code",
   "execution_count": 75,
   "metadata": {
    "id": "h0ddqchUjif4"
   },
   "outputs": [
    {
     "output_type": "execute_result",
     "data": {
      "text/plain": [
       "dict_values(['신한카드', 75000, {'500원': 1, '100원': 1}, ['주민등록증', '여권'], '운전면허증'])"
      ]
     },
     "metadata": {},
     "execution_count": 75
    }
   ],
   "source": [
    "# dict의 value 값 확인\n",
    "wallet.values()"
   ]
  },
  {
   "cell_type": "markdown",
   "metadata": {
    "id": "rGH0q-_OTDng"
   },
   "source": [
    "### 2-3. dict value 값에 접근하기"
   ]
  },
  {
   "cell_type": "code",
   "execution_count": 78,
   "metadata": {
    "id": "MsGJqKyUTDng"
   },
   "outputs": [
    {
     "output_type": "stream",
     "name": "stdout",
     "text": [
      "신한카드\n신한카드\n"
     ]
    }
   ],
   "source": [
    "# get 함수를 사용하여 접근\n",
    "print(wallet.get('card'))\n",
    "print(wallet['card'])"
   ]
  },
  {
   "cell_type": "code",
   "execution_count": 79,
   "metadata": {
    "id": "tcL6r0lKTDng"
   },
   "outputs": [
    {
     "output_type": "execute_result",
     "data": {
      "text/plain": [
       "{'500원': 1, '100원': 1}"
      ]
     },
     "metadata": {},
     "execution_count": 79
    }
   ],
   "source": [
    "# key값을 바로 value값 접근에 사용\n",
    "wallet['coin']"
   ]
  },
  {
   "cell_type": "markdown",
   "metadata": {
    "id": "KXMjpIEqTDng"
   },
   "source": [
    "### 2-4. dict 편집"
   ]
  },
  {
   "cell_type": "code",
   "execution_count": 88,
   "metadata": {
    "id": "RsqupBCFka1Y"
   },
   "outputs": [
    {
     "output_type": "stream",
     "name": "stdout",
     "text": [
      "{'card': '국민카드', 'cash': 75000, 'coin': {'500원': 1, '100원': 1}, 'id': ['주민등록증', '여권'], 'licence': '운전면허증'}\n"
     ]
    }
   ],
   "source": [
    "# update 함수를 사용하여 항목 추가\n",
    "wallet.update({'card' : '국민카드'})\n",
    "print(wallet)"
   ]
  },
  {
   "cell_type": "code",
   "execution_count": 91,
   "metadata": {
    "id": "hoI-f1OFTDng"
   },
   "outputs": [
    {
     "output_type": "stream",
     "name": "stdout",
     "text": [
      "{'card': '국민카드', 'cash': 75000, 'coin': {'500원': 1, '100원': 1}, 'id': ['주민등록증', '여권'], 'licence': '운전면허증', 'point card': '해피포인트'}\n"
     ]
    }
   ],
   "source": [
    "# wallet dict에 point card key를 갖는 해피포인트 값을 저장\n",
    "wallet['point card'] = '해피포인트'\n",
    "print(wallet)"
   ]
  },
  {
   "cell_type": "code",
   "execution_count": 94,
   "metadata": {
    "id": "re9ciBqpTDnh"
   },
   "outputs": [
    {
     "output_type": "stream",
     "name": "stdout",
     "text": [
      "{'card': '국민카드', 'cash': 75000, 'coin': {'500원': 1, '100원': 1}, 'id': ['주민등록증', '여권'], 'licence': '주민등록증', 'point card': '해피포인트', 'license': '주민등록증'}\n"
     ]
    }
   ],
   "source": [
    "# dict 특정 항목 업데이트\n",
    "wallet.update({'licence' : '주민등록증'})\n",
    "print(wallet)"
   ]
  },
  {
   "cell_type": "code",
   "execution_count": 95,
   "metadata": {
    "id": "KYy347LiTDnh"
   },
   "outputs": [
    {
     "output_type": "execute_result",
     "data": {
      "text/plain": [
       "{'500원': 1, '100원': 1}"
      ]
     },
     "metadata": {},
     "execution_count": 95
    }
   ],
   "source": [
    "# dict의 특정 value값 빼오기\n",
    "wallet['coin']"
   ]
  },
  {
   "cell_type": "markdown",
   "metadata": {
    "id": "-k40GkPCTDnh"
   },
   "source": [
    "### 2-5. dict 삭제"
   ]
  },
  {
   "cell_type": "code",
   "execution_count": 96,
   "metadata": {
    "id": "_fHnsDOPTDnh"
   },
   "outputs": [
    {
     "output_type": "stream",
     "name": "stdout",
     "text": [
      "{}\n"
     ]
    }
   ],
   "source": [
    "# dict 항목 제거\n",
    "wallet.clear()\n",
    "print(wallet)"
   ]
  },
  {
   "cell_type": "code",
   "execution_count": 39,
   "metadata": {
    "id": "p8gWM_KdTDnh"
   },
   "outputs": [],
   "source": [
    "# dict 전체 삭제\n",
    "del wallet"
   ]
  },
  {
   "cell_type": "markdown",
   "metadata": {
    "id": "N1ZnO_A-TDni"
   },
   "source": [
    "## **3. 튜플(tuple)**\n",
    "    데이터가 고정이 되어 변경이 불가능 한 데이터 집합\n",
    "    자료구조로는 잘 사용하지 않는다.\n",
    "    ( ) 소괄호로 묶어 사용한다.\n",
    "    구분은 , 콤마로 사용한다."
   ]
  },
  {
   "cell_type": "markdown",
   "metadata": {
    "id": "uPqJmD08TDni"
   },
   "source": [
    "### 3-1. tuple 생성"
   ]
  },
  {
   "cell_type": "code",
   "execution_count": 40,
   "metadata": {
    "id": "kADpkm8XTDni"
   },
   "outputs": [],
   "source": [
    "test_tuple = () # 의미가 모호해서 잘 사용하지 않는다.\n",
    "test_tuple = tuple()\n",
    "test_tuple = 1, 2, 3, 4"
   ]
  },
  {
   "cell_type": "markdown",
   "metadata": {
    "id": "DzsaYAy6TDnj"
   },
   "source": [
    "### 3-2. tuple 인덱싱"
   ]
  },
  {
   "cell_type": "code",
   "execution_count": 41,
   "metadata": {
    "id": "IqGvFG0bTDnj",
    "outputId": "56d4019a-0653-4e57-d048-9d4d40937964"
   },
   "outputs": [
    {
     "output_type": "execute_result",
     "data": {
      "text/plain": [
       "1"
      ]
     },
     "metadata": {},
     "execution_count": 41
    }
   ],
   "source": [
    "test_tuple[0]"
   ]
  },
  {
   "cell_type": "markdown",
   "metadata": {
    "id": "3UeCwj44TDnj"
   },
   "source": [
    "### 3-3. tuple 업데이트 (안됨)"
   ]
  },
  {
   "cell_type": "code",
   "execution_count": 42,
   "metadata": {
    "id": "wpdDGz8aTDnj"
   },
   "outputs": [
    {
     "output_type": "error",
     "ename": "TypeError",
     "evalue": "'tuple' object does not support item assignment",
     "traceback": [
      "\u001b[1;31m---------------------------------------------------------------------------\u001b[0m",
      "\u001b[1;31mTypeError\u001b[0m                                 Traceback (most recent call last)",
      "\u001b[1;32m<ipython-input-42-07c0836c9161>\u001b[0m in \u001b[0;36m<module>\u001b[1;34m\u001b[0m\n\u001b[1;32m----> 1\u001b[1;33m \u001b[0mtest_tuple\u001b[0m\u001b[1;33m[\u001b[0m\u001b[1;36m0\u001b[0m\u001b[1;33m]\u001b[0m \u001b[1;33m=\u001b[0m \u001b[1;36m0\u001b[0m\u001b[1;33m\u001b[0m\u001b[1;33m\u001b[0m\u001b[0m\n\u001b[0m",
      "\u001b[1;31mTypeError\u001b[0m: 'tuple' object does not support item assignment"
     ]
    }
   ],
   "source": [
    "test_tuple[0] = 0"
   ]
  },
  {
   "cell_type": "markdown",
   "metadata": {
    "id": "UpHPWGmgTDnj"
   },
   "source": [
    "### 3-4. tuple 값 추가"
   ]
  },
  {
   "cell_type": "code",
   "execution_count": null,
   "metadata": {
    "id": "KdSfOHBoTDnj",
    "outputId": "e9f24fb7-d148-4c53-f999-8c434be393dd"
   },
   "outputs": [
    {
     "data": {
      "text/plain": [
       "(1, 2, 3, 4, 7)"
      ]
     },
     "execution_count": 93,
     "metadata": {
      "tags": []
     },
     "output_type": "execute_result"
    }
   ],
   "source": [
    "test_tuple + (7, )"
   ]
  }
 ],
 "metadata": {
  "colab": {
   "collapsed_sections": [],
   "name": "02_python_sequence.ipynb",
   "provenance": [],
   "toc_visible": true
  },
  "kernelspec": {
   "name": "python3",
   "display_name": "Python 3.8.8 64-bit ('base': conda)"
  },
  "language_info": {
   "codemirror_mode": {
    "name": "ipython",
    "version": 3
   },
   "file_extension": ".py",
   "mimetype": "text/x-python",
   "name": "python",
   "nbconvert_exporter": "python",
   "pygments_lexer": "ipython3",
   "version": "3.8.8"
  },
  "interpreter": {
   "hash": "b3ba2566441a7c06988d0923437866b63cedc61552a5af99d1f4fb67d367b25f"
  }
 },
 "nbformat": 4,
 "nbformat_minor": 1
}