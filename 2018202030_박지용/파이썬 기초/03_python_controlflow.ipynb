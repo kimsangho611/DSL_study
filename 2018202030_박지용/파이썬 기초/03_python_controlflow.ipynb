{
 "cells": [
  {
   "cell_type": "markdown",
   "metadata": {
    "id": "1yLgZlPRoZEU"
   },
   "source": [
    "# **흐름제어문(controlflow)**\n",
    "    데이터 혹은 사용자가 설정한 조건에 따라 코드의 작동 및 프로그램이 제어 되도록 하는 구문\n",
    "    판별문 혹은 조건문 if, elif, else\n",
    "    반복문 for, while\n",
    "    예외처리 break, try, except, continue\n",
    "    흐름제어문을 구분하기 위해 indentation block(들여쓰기) 4칸, 혹은 tab을 사용한다."
   ]
  },
  {
   "cell_type": "markdown",
   "metadata": {
    "id": "1HSEY2vKoru2"
   },
   "source": [
    "### 흐름제어문의 구성\n",
    "    순차 : 위에서부터 아래 방향으로 코드가 순서대로 실행된다.\n",
    "    분기 : 판별문\n",
    "    반복 : while, for \n",
    "    반복 - 함수, 클래스"
   ]
  },
  {
   "cell_type": "markdown",
   "metadata": {
    "id": "QQb2NZItoycG"
   },
   "source": [
    "## **1. if, elif, else**\n",
    "    코드의 무조건 적인 실행이 아닌 사용자의 조건에 맞을 경우에만 코드가 실행되는 구조\n",
    "    같은 프로그램 내 다양한 경우의 수가 있을 경우 사용\n",
    "    코드의 흐름을 나누는 분기"
   ]
  },
  {
   "cell_type": "markdown",
   "metadata": {
    "id": "HwFGzU4MpJ5q"
   },
   "source": [
    "### 1-1. if 구문의 구조\n",
    "    if [조건식]:         만약 ~라면 : if는 하나의 if문에서 딱 1번 나올 수 있다.\n",
    "        [실행코드]\n",
    "    elif [조건식]:       그게 아니라 ~라면 : 0~무제한 등장\n",
    "        [실행코드]\n",
    "    else:              그게 전부다 아니라면 : 0~1번 등장\n",
    "        [실행코드]\n",
    "\n",
    "\n",
    "    조건식 : 명제 - 참, 거짓을 판별할 수 있는 문장\n",
    "        - 참, 거짓으로 결과가 나오는 코드(연산)\n",
    "        - True, False = Bool\n",
    "        \n",
    "    조건식, 비교연산자\n",
    "    a > b\n",
    "    a < b\n",
    "    a >= b\n",
    "    a <= b\n",
    "    a == b\n",
    "    a != b\n"
   ]
  },
  {
   "cell_type": "markdown",
   "metadata": {
    "id": "4TXSgDaJpcFB"
   },
   "source": [
    "### 1-2. 간단한 if 구문"
   ]
  },
  {
   "cell_type": "code",
   "execution_count": null,
   "metadata": {
    "id": "FZeLz9sQpEXM"
   },
   "outputs": [],
   "source": [
    "# 조건을 True, False\n",
    "if True:\n",
    "    print('참입니다.') \n",
    "else:\n",
    "    print('거짓입니다.')"
   ]
  },
  {
   "cell_type": "code",
   "execution_count": null,
   "metadata": {
    "id": "nI00SfqCpi1g"
   },
   "outputs": [],
   "source": [
    "# 조건식을 사용\n",
    "if 4 > 3:\n",
    "    print('참입니다.')"
   ]
  },
  {
   "cell_type": "code",
   "execution_count": null,
   "metadata": {
    "id": "Svi93VFHpkdg"
   },
   "outputs": [],
   "source": [
    "# 변수와 조건식을 사용\n",
    "a = 10\n",
    "if a > 5:\n",
    "    print('참입니다.')\n",
    "elif a < 5:\n",
    "    print('거짓입니다.')"
   ]
  },
  {
   "cell_type": "markdown",
   "metadata": {
    "id": "g9SMNPmxpw2g"
   },
   "source": [
    "### 1-3. 제어문의 흐름을 파악해보기"
   ]
  },
  {
   "cell_type": "code",
   "execution_count": 1,
   "metadata": {
    "id": "MQLG844zp4ST"
   },
   "outputs": [
    {
     "data": {
      "text/plain": [
       "'\\nprint(1)\\nif True:\\n    print(2)\\n    if False:\\n        print(3)\\n        print(4)\\n    elif True:\\n        print(5)\\n        if True:\\n            print(6)\\n            print(7)\\n            if False:\\n                print(8)\\n            elif True:\\n                print(9)\\n    else:\\n        print(10)\\n    if True:\\n        print(11)\\n    print(12)\\nprint(13)\\n'"
      ]
     },
     "execution_count": 1,
     "metadata": {},
     "output_type": "execute_result"
    }
   ],
   "source": [
    "# 코드의 실행 결과는 무엇이 출력될까요?\n",
    "'''\n",
    "print(1)\n",
    "if True:\n",
    "    print(2)\n",
    "    if False:\n",
    "        print(3)\n",
    "        print(4)\n",
    "    elif True:\n",
    "        print(5)\n",
    "        if True:\n",
    "            print(6)\n",
    "            print(7)\n",
    "            if False:\n",
    "                print(8)\n",
    "            elif True:\n",
    "                print(9)\n",
    "    else:\n",
    "        print(10)\n",
    "    if True:\n",
    "        print(11)\n",
    "    print(12)\n",
    "print(13)\n",
    "'''"
   ]
  },
  {
   "cell_type": "code",
   "execution_count": null,
   "metadata": {
    "id": "PS36HWFHqEHD"
   },
   "outputs": [],
   "source": [
    "'''\n",
    "a = 15\n",
    "\n",
    "if a > 100:\n",
    "    print(\"크다\")\n",
    "    \n",
    "elif a > 1000:\n",
    "    print(\"엄청크다\")\n",
    "    \n",
    "elif a < 10:\n",
    "    print(\"작다\")\n",
    "    \n",
    "else:\n",
    "    print(\"알 수 없다.\")\n",
    "'''"
   ]
  },
  {
   "cell_type": "markdown",
   "metadata": {
    "id": "hx4D6ObiqHgT"
   },
   "source": [
    "### 조금 프로그램다운 코드를 작성해보고자 입력을 추가해보겠습니다.\n",
    "    input('입력받을 데이터의 설명 : ') 문구가 문자형식으로 들어가야합니다.\n",
    "    입력받은 결과를 변수에 함께 저장합니다.\n",
    "    입력받은 결과 또한 문자형식으로 저장됩니다.\n",
    "    숫자형태로 인식하기 위해서는 데이터 타입 변환이 필요합니다."
   ]
  },
  {
   "cell_type": "code",
   "execution_count": 2,
   "metadata": {
    "id": "7KavNpOiqh73"
   },
   "outputs": [
    {
     "name": "stdout",
     "output_type": "stream",
     "text": [
      "숫자를 입력하세요 :10\n"
     ]
    }
   ],
   "source": [
    "# 사용자로부터 숫자를 입력받아 a 변수에 저장\n",
    "# 입력과 저장을 한꺼번에\n",
    "a = input('숫자를 입력하세요 :')"
   ]
  },
  {
   "cell_type": "code",
   "execution_count": 3,
   "metadata": {
    "id": "fvJOvM7PqrZJ"
   },
   "outputs": [
    {
     "name": "stdout",
     "output_type": "stream",
     "text": [
      "숫자를 입력하세요 :10\n"
     ]
    }
   ],
   "source": [
    "# 입력값을 정수타입 형태로 형변환(casting)\n",
    "a = int(input('숫자를 입력하세요 :'))"
   ]
  },
  {
   "cell_type": "markdown",
   "metadata": {
    "id": "a0gjTYJYrkKQ"
   },
   "source": [
    "### 1-4. 연습문제\n",
    "    지난시간 우리는 변수와 데이터의 타입에 대해서 배웠습니다.\n",
    "    이번에는 방금 학습한 input함수를 사용하여 사용자로부터 키, 몸무게를 입력받아 변수에 저장하고\n",
    "    변수를 사용하여 bmi를 계산 후 아래 조건식에 따라 사용자의 체형을 출력해주는 프로그램을 작성해보겠습니다.\n",
    "    \n",
    "    bmi = 체중(kg) / 키(m)^2\n",
    "    20 미만 - 저체중\n",
    "    20 ~ 24미만 - 표준체중\n",
    "    24 ~ 30미만 - 과체중\n",
    "    30 이상 - 비만"
   ]
  },
  {
   "cell_type": "code",
   "execution_count": 10,
   "metadata": {},
   "outputs": [
    {
     "name": "stdout",
     "output_type": "stream",
     "text": [
      "몸무게를 입력하세요 :78\n",
      "키를 입력하세요 :174\n",
      "25.762980578676178\n",
      "과체중입니다.\n"
     ]
    }
   ],
   "source": [
    "weight = int(input('몸무게를 입력하세요 :'))\n",
    "height = int(input('키를 입력하세요 :'))\n",
    "\n",
    "bmi = weight / (height/100)**2\n",
    "\n",
    "print(bmi)\n",
    "\n",
    "if bmi<20:\n",
    "    print(\"저체중입니다.\")\n",
    "elif bmi<24:\n",
    "          print(\"표준체중입니다.\")\n",
    "elif bmi<30 :\n",
    "          print(\"과체중입니다.\")\n",
    "else:\n",
    "            print(\"비만입니다.\")"
   ]
  },
  {
   "cell_type": "markdown",
   "metadata": {
    "id": "geTn3S1NsMlQ"
   },
   "source": [
    "## **2. for, break**\n",
    "    코드의 반복적인 실행을 위한 구문\n",
    "    반복실행해야 하는 범위가 있을 때 사용\n",
    "    보통은 데이터의 갯수 혹은 분석하고자 하는 데이터의 범위 내에서 반복작업을 할 때 사용\n",
    "    if 문과 함께 주로 사용되는 반복구문"
   ]
  },
  {
   "cell_type": "code",
   "execution_count": null,
   "metadata": {
    "id": "1qJxHTWEsUBe"
   },
   "outputs": [],
   "source": [
    "# 단순반복 작업을 효율적으로 하기위함. 4개는 손으로 해도 10개 100개는 어떻게?\n",
    "print(1)\n",
    "print(2)\n",
    "print(3)\n",
    "print(4)"
   ]
  },
  {
   "cell_type": "markdown",
   "metadata": {
    "id": "efX5-_94sbNf"
   },
   "source": [
    "### 2-1. for 문의 구조\n",
    "    for [반복자] in [반복범위]:    반복범위 안에서 반복자가 정의되며\n",
    "        [실행코드]               실행코드가 실행\n",
    "    \n",
    "    반복자 : 구간(범위)를 순환하며 정의되는 변수\n",
    "    관례적으로 심플한 반복자는 영문자 i(iterator)를 사용한다.\n",
    "    \n",
    "    for 문의 반복범위는 list, dict, 순서가 있는 자료구조\n",
    "    혹은 range() 명령어로 혹은 반복작업 횟수로 설정 가능\n",
    "    \n",
    "    range() 명령어\n",
    "    range(횟수) 횟수만큼의 범위 생성\n",
    "    range(x, y, z) x 부터 y-1 까지 z스텝 범위를 만들어주는 함수\n",
    "    \n",
    "### 2-1. break 구문\n",
    "    반복 작업 중 작업을 종료해야 할 때 사용"
   ]
  },
  {
   "cell_type": "markdown",
   "metadata": {
    "id": "G1eKAwo6subH"
   },
   "source": [
    "### 2-2. 간단한 for 구문\n"
   ]
  },
  {
   "cell_type": "code",
   "execution_count": 3,
   "metadata": {
    "id": "8Oqp5qoasUfr"
   },
   "outputs": [
    {
     "output_type": "stream",
     "name": "stdout",
     "text": [
      "안녕하세요\n안녕하세요\n안녕하세요\n안녕하세요\n안녕하세요\n안녕하세요\n안녕하세요\n14\n"
     ]
    }
   ],
   "source": [
    "# 기본적인 for 구문 \n",
    "# _ 혹은 i를 반복자로 사용(iterator 변수로서 사용 가능)\n",
    "for i in range(10):\n",
    "    print('안녕하세요')\n",
    "    \n",
    "# 반복을 진행하다가 멈추고 싶다\n",
    "    if i > 5:\n",
    "        break\n",
    "\n",
    "for i in range(15):\n",
    "    if i == 14:\n",
    "        print(i)"
   ]
  },
  {
   "cell_type": "code",
   "execution_count": 7,
   "metadata": {
    "id": "eQFWlw3ftYSO"
   },
   "outputs": [
    {
     "output_type": "stream",
     "name": "stdout",
     "text": [
      "0\n1\n"
     ]
    }
   ],
   "source": [
    "# range 함수의 조건 추가\n",
    "# range는 범위를 설정하는 명령어\n",
    "range(0,2)\n",
    "\n",
    "for i in range(0, 2):\n",
    "    print(i)"
   ]
  },
  {
   "cell_type": "markdown",
   "metadata": {
    "id": "4FzMoTqsuBTu"
   },
   "source": [
    "### 2-3. for문의 다양한 활용방법"
   ]
  },
  {
   "cell_type": "code",
   "execution_count": 15,
   "metadata": {
    "id": "wLOJC4QAtrkO"
   },
   "outputs": [
    {
     "name": "stdout",
     "output_type": "stream",
     "text": [
      "1\n",
      "2\n",
      "3\n",
      "4\n",
      "5\n",
      "6\n",
      "7\n",
      "8\n",
      "9\n"
     ]
    }
   ],
   "source": [
    "# 구간이 정해져 있는 데이터를 순환하면서 작업\n",
    "test_list = [1, 2, 3, 4, 5, 6, 7, 8, 9]\n",
    "for i in test_list:\n",
    "    print(i)"
   ]
  },
  {
   "cell_type": "code",
   "execution_count": 8,
   "metadata": {
    "id": "I1grCYw0uOrW"
   },
   "outputs": [
    {
     "output_type": "stream",
     "name": "stdout",
     "text": [
      "1 서울\n2 용산구\n3 해방촌\n4 르카페\n5 재즈\n6 치즈\n7 요리\n"
     ]
    }
   ],
   "source": [
    "# enumerate() 함수안의 자료구조의 순번과 함께 반복\n",
    "test_list = ['서울', '용산구', '해방촌', '르카페', '재즈', '치즈', '요리']\n",
    "for index, item in enumerate(test_list):\n",
    "    print(index + 1, item)"
   ]
  },
  {
   "cell_type": "code",
   "execution_count": 5,
   "metadata": {
    "id": "LzVqDQsbuXXf"
   },
   "outputs": [
    {
     "output_type": "stream",
     "name": "stdout",
     "text": [
      "변치웅 이름\n서울  사는곳\n해방촌 사는동네\n르카페 좋아하는 카페\n재즈 음악\n치즈 반려묘\n요리 취미\n"
     ]
    }
   ],
   "source": [
    "# zip() 함수로 갯수가 같은 다른 자료구조와 함께 작업\n",
    "test_list1 = ['이름', '사는곳', '사는동네', '좋아하는 카페', '음악', '반려묘', '취미']\n",
    "test_list2 = ['변치웅', '서울 ', '해방촌', '르카페', '재즈', '치즈', '요리']\n",
    "for item1, item2 in zip(test_list1, test_list2):\n",
    "    print(item2, item1)"
   ]
  },
  {
   "cell_type": "code",
   "execution_count": 18,
   "metadata": {
    "id": "vs66g1eButUO"
   },
   "outputs": [
    {
     "data": {
      "text/plain": [
       "[0, 1, 2, 3, 4, 5, 6, 7, 8, 9]"
      ]
     },
     "execution_count": 18,
     "metadata": {},
     "output_type": "execute_result"
    }
   ],
   "source": [
    "# 그렇다면 미리 정해진 숫자 혹은 데이터로만 사용이 가능할까?\n",
    "# 생성할 때도 용이함\n",
    "test_list = []\n",
    "for i in range(10):\n",
    "    test_list.append(i)\n",
    "test_list"
   ]
  },
  {
   "cell_type": "markdown",
   "metadata": {
    "id": "k8hJ0pZ7uws5"
   },
   "source": [
    "### 2-4. 입력받은 숫자까지 의 합을 계산해주는 코드를 작성해 봅시다."
   ]
  },
  {
   "cell_type": "code",
   "execution_count": 24,
   "metadata": {},
   "outputs": [
    {
     "name": "stdout",
     "output_type": "stream",
     "text": [
      "숫자를 넣으세요 :100\n",
      "5050\n"
     ]
    }
   ],
   "source": [
    "a = int(input(\"숫자를 넣으세요 :\"))\n",
    "\n",
    "b=0\n",
    "\n",
    "for i in range(a+1):\n",
    "    b=b+i\n",
    "    \n",
    "print(b)"
   ]
  },
  {
   "cell_type": "markdown",
   "metadata": {
    "id": "_gdCLt_Au4iT"
   },
   "source": [
    "## **3. while(무한루프)**\n",
    "    코드의 반복적인 실행을 위한 반복문\n",
    "    조건식이 참일 경우 반복구문이 계속 실행 됨\n",
    "    보통은 프로그램을 실행 대기상태로 두거나 입력값을 받는 등의 용도로 사용."
   ]
  },
  {
   "cell_type": "markdown",
   "metadata": {
    "id": "J9ZVJbYnvDTI"
   },
   "source": [
    "### 3-1. while문의 구조\n",
    "    whiel [조건식]:\n",
    "        [실행코드]\n",
    "        \n",
    "    while문은 while문의 조건식이 참일 경우 무조건 실행되게끔 짜여진 구조. \n",
    "    while문을 사용할 때는 항상 반복구문을 어떻게 종료해야하는지를 설정해야 함."
   ]
  },
  {
   "cell_type": "markdown",
   "metadata": {
    "id": "ONeVLuP0vJ7r"
   },
   "source": [
    "### 3-2. 간단한 while 구문"
   ]
  },
  {
   "cell_type": "code",
   "execution_count": 9,
   "metadata": {
    "id": "IflEL76vvAjE"
   },
   "outputs": [
    {
     "output_type": "stream",
     "name": "stdout",
     "text": [
      "무한루프에 빠졌습니다.\n무한루프에 빠졌습니다.\n"
     ]
    }
   ],
   "source": [
    "# for문과는 달리 조건식을 while 구문 바로 뒤에 적어줌\n",
    "# while문의 무한루프를 컨트롤 하기위한 변수 설정하고 조건식을 추가하여 코드실행을 컨트롤\n",
    "\n",
    "a = 0\n",
    "while True:\n",
    "    print('무한루프에 빠졌습니다.')\n",
    "    a += 1\n",
    "    if a == 2:\n",
    "        break\n",
    "    \n",
    "# 반복을 진행하다가 멈추고 싶다\n",
    "    # a += 1\n",
    "    # if a > 50:\n",
    "    #    break"
   ]
  },
  {
   "cell_type": "markdown",
   "metadata": {
    "id": "rQvz8GrzxFY-"
   },
   "source": [
    "### 3-3. while 문과 for 문 비교해보기"
   ]
  },
  {
   "cell_type": "code",
   "execution_count": 10,
   "metadata": {
    "id": "2bOnM_p2vZfS"
   },
   "outputs": [
    {
     "output_type": "stream",
     "name": "stdout",
     "text": [
      "1\n2\n3\n4\n5\n6\n7\n8\n9\n10\n11\n12\n13\n14\n15\n16\n17\n18\n19\n20\n21\n22\n23\n24\n25\n26\n27\n28\n29\n30\n31\n32\n33\n34\n35\n36\n37\n38\n39\n40\n41\n42\n43\n44\n45\n46\n47\n48\n49\n50\n51\n52\n53\n54\n55\n56\n57\n58\n59\n60\n61\n62\n63\n64\n65\n66\n67\n68\n69\n70\n71\n72\n73\n74\n75\n76\n77\n78\n79\n80\n81\n82\n83\n84\n85\n86\n87\n88\n89\n90\n91\n92\n93\n94\n95\n96\n97\n98\n99\n100\n1\n2\n3\n4\n5\n6\n7\n8\n9\n10\n11\n12\n13\n14\n15\n16\n17\n18\n19\n20\n21\n22\n23\n24\n25\n26\n27\n28\n29\n30\n31\n32\n33\n34\n35\n36\n37\n38\n39\n40\n41\n42\n43\n44\n45\n46\n47\n48\n49\n50\n51\n52\n53\n54\n55\n56\n57\n58\n59\n60\n61\n62\n63\n64\n65\n66\n67\n68\n69\n70\n71\n72\n73\n74\n75\n76\n77\n78\n79\n80\n81\n82\n83\n84\n85\n86\n87\n88\n89\n90\n91\n92\n93\n94\n95\n96\n97\n98\n99\n100\n"
     ]
    }
   ],
   "source": [
    "# 1~100까지 출력되도록\n",
    "# while문\n",
    "a = 1\n",
    "while a < 101:\n",
    "    print(a)\n",
    "    a = a + 1\n",
    "    # a += 1\n",
    "    \n",
    "# for 문\n",
    "for a in range(1,101):\n",
    "    print(a)"
   ]
  },
  {
   "cell_type": "code",
   "execution_count": 16,
   "metadata": {
    "id": "xF8lIt4lxSu-"
   },
   "outputs": [
    {
     "output_type": "stream",
     "name": "stdout",
     "text": [
      "100\n99\n98\n97\n96\n95\n94\n93\n92\n91\n90\n89\n88\n87\n86\n85\n84\n83\n82\n81\n80\n79\n78\n77\n76\n75\n74\n73\n72\n71\n70\n69\n68\n67\n66\n65\n64\n63\n62\n61\n60\n59\n58\n57\n56\n55\n54\n53\n52\n51\n50\n49\n48\n47\n46\n45\n44\n43\n42\n41\n40\n39\n38\n37\n36\n35\n34\n33\n32\n31\n30\n29\n28\n27\n26\n25\n24\n23\n22\n21\n20\n19\n18\n17\n16\n15\n14\n13\n12\n11\n10\n9\n8\n7\n6\n5\n4\n3\n2\n1\n100\n99\n98\n97\n96\n95\n94\n93\n92\n91\n90\n89\n88\n87\n86\n85\n84\n83\n82\n81\n80\n79\n78\n77\n76\n75\n74\n73\n72\n71\n70\n69\n68\n67\n66\n65\n64\n63\n62\n61\n60\n59\n58\n57\n56\n55\n54\n53\n52\n51\n50\n49\n48\n47\n46\n45\n44\n43\n42\n41\n40\n39\n38\n37\n36\n35\n34\n33\n32\n31\n30\n29\n28\n27\n26\n25\n24\n23\n22\n21\n20\n19\n18\n17\n16\n15\n14\n13\n12\n11\n10\n9\n8\n7\n6\n5\n4\n3\n2\n1\n"
     ]
    }
   ],
   "source": [
    "# 100~1까지 출력되도록 while문과 for문 구성해보자\n",
    "# while문\n",
    "\n",
    "a = 100\n",
    "while(a > 0):\n",
    "    print(a)\n",
    "    a -= 1\n",
    "    \n",
    "# for문\n",
    "a = 100\n",
    "for i in range(0, 100):\n",
    "    print(a - i)"
   ]
  },
  {
   "cell_type": "code",
   "execution_count": null,
   "metadata": {
    "id": "_Sb6sCBsxVMr"
   },
   "outputs": [],
   "source": [
    "# 1~5까지의 합을 구해서 출력\n",
    "# while문\n",
    "a = 1\n",
    "total = 0\n",
    "while a < 6:\n",
    "    total = total + a\n",
    "    a = a + 1\n",
    "print(total)\n",
    "\n",
    "# for문\n",
    "total = 0\n",
    "for a in range(1,6):\n",
    "    total += a\n",
    "print(total)"
   ]
  },
  {
   "cell_type": "code",
   "execution_count": null,
   "metadata": {
    "id": "-et6N9qMxX7I"
   },
   "outputs": [],
   "source": [
    "# 1~100까지의 합을 구해서 출력하도록 while문과 for문 구성하기\n",
    "# while문\n",
    "a = 1\n",
    "total = 0\n",
    "while a < 101:\n",
    "    total = total + a\n",
    "    a = a + 1\n",
    "print(total)\n",
    "\n",
    "# for문\n",
    "total = 0\n",
    "for a in range(1,101):\n",
    "    total += a\n",
    "print(total)"
   ]
  },
  {
   "cell_type": "markdown",
   "metadata": {
    "id": "_gQuyPAgx1ZY"
   },
   "source": [
    "## **(참고)고오급 python 스킬**\n",
    "    list comprehension\n",
    "    controlflow를 활용하여 간단하게 리스트 생성 가능\n",
    "    데이터의 특정 부분만을 따로 변수로 사용하고자 할 때 굉장히 많이 사용하는 파이썬 코딩스킬"
   ]
  },
  {
   "cell_type": "code",
   "execution_count": 18,
   "metadata": {
    "id": "vXIaoK4Mx4PM"
   },
   "outputs": [
    {
     "output_type": "execute_result",
     "data": {
      "text/plain": [
       "[0,\n",
       " 1,\n",
       " 2,\n",
       " 3,\n",
       " 4,\n",
       " 5,\n",
       " 6,\n",
       " 7,\n",
       " 8,\n",
       " 9,\n",
       " 10,\n",
       " 11,\n",
       " 12,\n",
       " 13,\n",
       " 14,\n",
       " 15,\n",
       " 16,\n",
       " 17,\n",
       " 18,\n",
       " 19,\n",
       " 20,\n",
       " 21,\n",
       " 22,\n",
       " 23,\n",
       " 24,\n",
       " 25,\n",
       " 26,\n",
       " 27,\n",
       " 28,\n",
       " 29,\n",
       " 30,\n",
       " 31,\n",
       " 32,\n",
       " 33,\n",
       " 34,\n",
       " 35,\n",
       " 36,\n",
       " 37,\n",
       " 38,\n",
       " 39,\n",
       " 40,\n",
       " 41,\n",
       " 42,\n",
       " 43,\n",
       " 44,\n",
       " 45,\n",
       " 46,\n",
       " 47,\n",
       " 48,\n",
       " 49,\n",
       " 50,\n",
       " 51,\n",
       " 52,\n",
       " 53,\n",
       " 54,\n",
       " 55,\n",
       " 56,\n",
       " 57,\n",
       " 58,\n",
       " 59,\n",
       " 60,\n",
       " 61,\n",
       " 62,\n",
       " 63,\n",
       " 64,\n",
       " 65,\n",
       " 66,\n",
       " 67,\n",
       " 68,\n",
       " 69,\n",
       " 70,\n",
       " 71,\n",
       " 72,\n",
       " 73,\n",
       " 74,\n",
       " 75,\n",
       " 76,\n",
       " 77,\n",
       " 78,\n",
       " 79,\n",
       " 80,\n",
       " 81,\n",
       " 82,\n",
       " 83,\n",
       " 84,\n",
       " 85,\n",
       " 86,\n",
       " 87,\n",
       " 88,\n",
       " 89,\n",
       " 90,\n",
       " 91,\n",
       " 92,\n",
       " 93,\n",
       " 94,\n",
       " 95,\n",
       " 96,\n",
       " 97,\n",
       " 98,\n",
       " 99,\n",
       " 100,\n",
       " 101,\n",
       " 102,\n",
       " 103,\n",
       " 104,\n",
       " 105,\n",
       " 106,\n",
       " 107,\n",
       " 108,\n",
       " 109,\n",
       " 110,\n",
       " 111,\n",
       " 112]"
      ]
     },
     "metadata": {},
     "execution_count": 18
    }
   ],
   "source": [
    "# for문 활용\n",
    "test_list = [x for x in range(0,113)]\n",
    "test_list"
   ]
  },
  {
   "cell_type": "code",
   "execution_count": null,
   "metadata": {
    "id": "J0_M3YP2yD-4"
   },
   "outputs": [],
   "source": [
    "# for문과 if 조건문을 함께 사용한 경우"
   ]
  },
  {
   "cell_type": "code",
   "execution_count": null,
   "metadata": {
    "id": "UUhT9hF3yWSM"
   },
   "outputs": [],
   "source": [
    "# 위 코드를 풀어쓴다면?"
   ]
  },
  {
   "cell_type": "markdown",
   "metadata": {
    "id": "b20LgWW1zb7z"
   },
   "source": [
    "## **4-1. 연습문제**\n",
    "    컴퓨터와 스무고개 게임을 하는 프로그램을 만들어보겠습니다.\n",
    "    우선 컴퓨터가 저장 할 숫자를 사용자에게 입력받아 저장하고, 게이머에게 입력받은 숫자를 판별하여 업, 다운, 정답을 출력하는 프로그램입니다.\n",
    "    게임 횟수는 10회이며, 10회 동안 정답을 못 맞출 경우 실패 문구를 출력하도록 프로그램을 짜 보겠습니다."
   ]
  },
  {
   "cell_type": "code",
   "execution_count": 37,
   "metadata": {},
   "outputs": [
    {
     "name": "stdout",
     "output_type": "stream",
     "text": [
      "정답을 입력해주세요 : \n"
     ]
    },
    {
     "ename": "ValueError",
     "evalue": "invalid literal for int() with base 10: ' '",
     "output_type": "error",
     "traceback": [
      "\u001b[1;31m---------------------------------------------------------------------------\u001b[0m",
      "\u001b[1;31mValueError\u001b[0m                                Traceback (most recent call last)",
      "\u001b[1;32m<ipython-input-37-011dcdda8878>\u001b[0m in \u001b[0;36m<module>\u001b[1;34m\u001b[0m\n\u001b[1;32m----> 1\u001b[1;33m \u001b[0manswer\u001b[0m \u001b[1;33m=\u001b[0m \u001b[0mint\u001b[0m\u001b[1;33m(\u001b[0m\u001b[0minput\u001b[0m\u001b[1;33m(\u001b[0m\u001b[1;34m\"정답을 입력해주세요 :\"\u001b[0m\u001b[1;33m)\u001b[0m\u001b[1;33m)\u001b[0m\u001b[1;33m\u001b[0m\u001b[1;33m\u001b[0m\u001b[0m\n\u001b[0m\u001b[0;32m      2\u001b[0m \u001b[0mtemp\u001b[0m\u001b[1;33m=\u001b[0m\u001b[1;36m0\u001b[0m\u001b[1;33m\u001b[0m\u001b[1;33m\u001b[0m\u001b[0m\n\u001b[0;32m      3\u001b[0m \u001b[0mcorrect\u001b[0m\u001b[1;33m=\u001b[0m\u001b[1;32mFalse\u001b[0m\u001b[1;33m\u001b[0m\u001b[1;33m\u001b[0m\u001b[0m\n\u001b[0;32m      4\u001b[0m \u001b[1;33m\u001b[0m\u001b[0m\n\u001b[0;32m      5\u001b[0m \u001b[1;32mfor\u001b[0m \u001b[0mi\u001b[0m \u001b[1;32min\u001b[0m \u001b[0mrange\u001b[0m\u001b[1;33m(\u001b[0m\u001b[1;36m10\u001b[0m\u001b[1;33m)\u001b[0m\u001b[1;33m:\u001b[0m\u001b[1;33m\u001b[0m\u001b[1;33m\u001b[0m\u001b[0m\n",
      "\u001b[1;31mValueError\u001b[0m: invalid literal for int() with base 10: ' '"
     ]
    }
   ],
   "source": [
    "answer = int(input(\"정답을 입력해주세요 :\"))\n",
    "temp=0\n",
    "correct=False\n",
    "\n",
    "for i in range(10):\n",
    "    temp=int(input(\"숫자를 입력해주세요: \"))\n",
    "    \n",
    "    if(temp==answer):\n",
    "        print(\"정답입니다\")\n",
    "        correct=True\n",
    "        break\n",
    "    elif(temp<answer):\n",
    "        print(\"업\")\n",
    "    else:\n",
    "        print(\"다운\")\n",
    "        \n",
    "if(correct==False):\n",
    "    print(\"실패하였습니다.\")"
   ]
  },
  {
   "cell_type": "markdown",
   "metadata": {
    "id": "4Jl1pejczpeZ"
   },
   "source": [
    "## **4-2. 연습문제**\n",
    "    간단한 ATM기 시스템을 만들어보겠습니다.\n",
    "    \n",
    "    사용자로부터 메뉴를 입력받습니다.\n",
    "    1. 입금\n",
    "    2. 출금\n",
    "    3. 잔액확인\n",
    "    4. 종료\n",
    "    \n",
    "    입력받은 메뉴에 따라 계좌잔액에 입금과 출금을 적용하고 잔액을 출력해봅시다.\n",
    "    종료메뉴는 while 문을 빠져나오도록 프로그램을 종료시킵니다."
   ]
  },
  {
   "cell_type": "markdown",
   "metadata": {
    "id": "7SOwoyMbliwp"
   },
   "source": [
    "## **5.try, except(오류처리 혹은 예외처리)**\n",
    "    try, except 구문은 오류 발생가능성이 있는 구문을 처리하거나\n",
    "    반드시 오류가 발생하는 구문을 감싸 정상적인 프로그램 흐름이 이어질 수 있도록 처리하는 예외처리 구문입니다.\n",
    "\n",
    "    try:\n",
    "        [처리하고 싶은 코드]\n",
    "    except [오류명]:\n",
    "        [try로 처리하지 못한 작업을 처리하기 위한 코드]\n"
   ]
  },
  {
   "cell_type": "code",
   "execution_count": null,
   "metadata": {
    "id": "qhY3DsKhzixY"
   },
   "outputs": [],
   "source": [
    "# input함수로 결과값을 받아 에러를 발생시키고 예외처리 해보기"
   ]
  },
  {
   "cell_type": "code",
   "execution_count": 38,
   "metadata": {
    "id": "A236RWZMz0OE"
   },
   "outputs": [
    {
     "name": "stdout",
     "output_type": "stream",
     "text": [
      "10\n",
      "숫자를 입력하세요:10\n"
     ]
    },
    {
     "ename": "SyntaxError",
     "evalue": "'break' outside loop (<ipython-input-38-8bfa389ebf53>, line 5)",
     "output_type": "error",
     "traceback": [
      "\u001b[1;36m  File \u001b[1;32m\"<ipython-input-38-8bfa389ebf53>\"\u001b[1;36m, line \u001b[1;32m5\u001b[0m\n\u001b[1;33m    break\u001b[0m\n\u001b[1;37m    ^\u001b[0m\n\u001b[1;31mSyntaxError\u001b[0m\u001b[1;31m:\u001b[0m 'break' outside loop\n"
     ]
    }
   ],
   "source": [
    "com=int(input()) #컴퓨터숫자\n",
    "mynum=int(input('숫자를 입력하세요:')) #입력한숫자\n",
    "if com==mynum:\n",
    "    print('정답') #정답인경우 정답출력하고 빠져나옴\n",
    "    break\n",
    "elif com>mynum:\n",
    "    print('업')\n",
    "elif com<mynum:\n",
    "    print('다운')"
   ]
  },
  {
   "cell_type": "code",
   "execution_count": null,
   "metadata": {
    "id": "nmQ4JlLuz0MJ"
   },
   "outputs": [],
   "source": []
  },
  {
   "cell_type": "code",
   "execution_count": null,
   "metadata": {
    "id": "cj5XDqcCz0I_"
   },
   "outputs": [],
   "source": []
  },
  {
   "cell_type": "code",
   "execution_count": null,
   "metadata": {
    "id": "udoUyEP8z0GQ"
   },
   "outputs": [],
   "source": []
  },
  {
   "cell_type": "code",
   "execution_count": null,
   "metadata": {
    "id": "QRj5rZkwz0D6"
   },
   "outputs": [],
   "source": []
  },
  {
   "cell_type": "code",
   "execution_count": null,
   "metadata": {
    "id": "uPY65JNbz0A2"
   },
   "outputs": [],
   "source": []
  },
  {
   "cell_type": "code",
   "execution_count": null,
   "metadata": {
    "id": "GhPFxVyZzz-f"
   },
   "outputs": [],
   "source": []
  },
  {
   "cell_type": "code",
   "execution_count": null,
   "metadata": {
    "id": "NKvuUUXpzz8A"
   },
   "outputs": [],
   "source": []
  },
  {
   "cell_type": "code",
   "execution_count": null,
   "metadata": {
    "id": "W6VKJHHkzz5d"
   },
   "outputs": [],
   "source": []
  },
  {
   "cell_type": "code",
   "execution_count": null,
   "metadata": {
    "id": "RTTXfPHHzz3F"
   },
   "outputs": [],
   "source": []
  },
  {
   "cell_type": "code",
   "execution_count": null,
   "metadata": {
    "id": "265y4oOEzz0W"
   },
   "outputs": [],
   "source": []
  },
  {
   "cell_type": "code",
   "execution_count": null,
   "metadata": {
    "id": "5PjGhX4Dzzxs"
   },
   "outputs": [],
   "source": []
  },
  {
   "cell_type": "code",
   "execution_count": null,
   "metadata": {
    "id": "Dy24M9aUzzvN"
   },
   "outputs": [],
   "source": []
  },
  {
   "cell_type": "code",
   "execution_count": null,
   "metadata": {
    "id": "Vs8RhmEOzzsv"
   },
   "outputs": [],
   "source": []
  },
  {
   "cell_type": "code",
   "execution_count": null,
   "metadata": {
    "id": "tNiguTufzzp9"
   },
   "outputs": [],
   "source": []
  },
  {
   "cell_type": "code",
   "execution_count": null,
   "metadata": {
    "id": "S0IeisdSzzna"
   },
   "outputs": [],
   "source": []
  },
  {
   "cell_type": "code",
   "execution_count": null,
   "metadata": {
    "id": "ROTdeZ5rzzk5"
   },
   "outputs": [],
   "source": []
  },
  {
   "cell_type": "code",
   "execution_count": null,
   "metadata": {
    "id": "VfMVhQHQzzia"
   },
   "outputs": [],
   "source": []
  },
  {
   "cell_type": "code",
   "execution_count": null,
   "metadata": {
    "id": "zGT7yOrqzzfz"
   },
   "outputs": [],
   "source": []
  },
  {
   "cell_type": "code",
   "execution_count": null,
   "metadata": {
    "id": "0XgFkLSKzzdQ"
   },
   "outputs": [],
   "source": []
  },
  {
   "cell_type": "code",
   "execution_count": null,
   "metadata": {
    "id": "RyMP318ozzaZ"
   },
   "outputs": [],
   "source": []
  },
  {
   "cell_type": "code",
   "execution_count": null,
   "metadata": {
    "id": "v47TXrLezzX-"
   },
   "outputs": [],
   "source": []
  },
  {
   "cell_type": "code",
   "execution_count": null,
   "metadata": {
    "id": "F1fv_xffzzWB"
   },
   "outputs": [],
   "source": []
  },
  {
   "cell_type": "code",
   "execution_count": null,
   "metadata": {
    "id": "O3rH3H0mzzTO"
   },
   "outputs": [],
   "source": []
  },
  {
   "cell_type": "code",
   "execution_count": null,
   "metadata": {
    "id": "yNzSbX_FzzQV"
   },
   "outputs": [],
   "source": []
  },
  {
   "cell_type": "code",
   "execution_count": null,
   "metadata": {
    "id": "Lfe1jwYdzzNx"
   },
   "outputs": [],
   "source": []
  },
  {
   "cell_type": "code",
   "execution_count": null,
   "metadata": {
    "id": "1GOho7IUzzLl"
   },
   "outputs": [],
   "source": []
  },
  {
   "cell_type": "code",
   "execution_count": null,
   "metadata": {
    "id": "jsHMlptGzzJY"
   },
   "outputs": [],
   "source": []
  },
  {
   "cell_type": "code",
   "execution_count": null,
   "metadata": {
    "id": "Rpjn32WEzzGr"
   },
   "outputs": [],
   "source": []
  },
  {
   "cell_type": "code",
   "execution_count": null,
   "metadata": {
    "id": "8GdbsQTVzzEi"
   },
   "outputs": [],
   "source": []
  },
  {
   "cell_type": "code",
   "execution_count": null,
   "metadata": {
    "id": "U8u-WxrIzzCw"
   },
   "outputs": [],
   "source": []
  },
  {
   "cell_type": "code",
   "execution_count": null,
   "metadata": {
    "id": "ZXVy3QgxzzAa"
   },
   "outputs": [],
   "source": []
  },
  {
   "cell_type": "code",
   "execution_count": null,
   "metadata": {
    "id": "jU1EadMHzy-T"
   },
   "outputs": [],
   "source": []
  },
  {
   "cell_type": "code",
   "execution_count": null,
   "metadata": {
    "id": "SnBnkDpBzy8I"
   },
   "outputs": [],
   "source": []
  },
  {
   "cell_type": "code",
   "execution_count": null,
   "metadata": {
    "id": "zawjHpvSzy5r"
   },
   "outputs": [],
   "source": []
  },
  {
   "cell_type": "code",
   "execution_count": null,
   "metadata": {
    "id": "4894_Prezy3Z"
   },
   "outputs": [],
   "source": []
  },
  {
   "cell_type": "code",
   "execution_count": null,
   "metadata": {
    "id": "P90SWJdQzy1l"
   },
   "outputs": [],
   "source": []
  },
  {
   "cell_type": "code",
   "execution_count": null,
   "metadata": {
    "id": "o8rWwG6Gzyy8"
   },
   "outputs": [],
   "source": []
  },
  {
   "cell_type": "code",
   "execution_count": null,
   "metadata": {
    "id": "2bhkp70kzywu"
   },
   "outputs": [],
   "source": []
  },
  {
   "cell_type": "code",
   "execution_count": null,
   "metadata": {
    "id": "shTtnLidzyuV"
   },
   "outputs": [],
   "source": []
  },
  {
   "cell_type": "code",
   "execution_count": null,
   "metadata": {
    "id": "8EF5ODcfzyrn"
   },
   "outputs": [],
   "source": []
  },
  {
   "cell_type": "code",
   "execution_count": null,
   "metadata": {
    "id": "gvUaVWNOzypX"
   },
   "outputs": [],
   "source": []
  },
  {
   "cell_type": "code",
   "execution_count": null,
   "metadata": {
    "id": "JqwiQ7KQzynB"
   },
   "outputs": [],
   "source": [
    "name = input('이름을 입력하세요 : ')\n",
    "height = input('키를 입력하세요 : ')\n",
    "height = float(height) / 100\n",
    "weight = input('몸무게를 입력하세요 : ')\n",
    "weight = float(weight)\n",
    "bmi = weight / (height * height)\n",
    "\n",
    "print(f'{name}님의 bmi 지수는 {bmi}입니다.')\n",
    "if bmi < 20:\n",
    "    print('bmi에 따라 구분한 체중은 저체중입니다.')\n",
    "elif 20 <= bmi < 24:\n",
    "    print('bmi에 따라 구분한 체중은 표준체중입니다.')\n",
    "elif 24 <= bmi < 30:\n",
    "    print('bmi에 따라 구분한 체중은 과체중입니다.')\n",
    "else:\n",
    "    print('bmi에 따라 구분한 체중은 비만입니다.')"
   ]
  },
  {
   "cell_type": "code",
   "execution_count": null,
   "metadata": {
    "id": "Pad7AOPFz4Mg"
   },
   "outputs": [],
   "source": [
    "total = 0\n",
    "number = input('합을 계산할 숫자(정수)를 입력해주세요 : ')\n",
    "number = int(number)\n",
    "for i in range(number+1):\n",
    "    total = total + i\n",
    "\n",
    "print(total)"
   ]
  },
  {
   "cell_type": "code",
   "execution_count": null,
   "metadata": {
    "id": "XdBA7GuJz8ak"
   },
   "outputs": [],
   "source": [
    "computer = input('컴퓨터의 저장 숫자를 입력하세요 : ')\n",
    "computer = int(computer)\n",
    "for i in range(10):\n",
    "    gamer = input('컴퓨터의 숫자를 맞춰보세요 : ')\n",
    "    gamer = int(gamer)\n",
    "    if computer > gamer:\n",
    "        print('업')\n",
    "    elif computer < gamer:\n",
    "        print('다운')\n",
    "    elif computer == gamer:\n",
    "        print('정답입니다.')\n",
    "        break\n",
    "if i == 9:\n",
    "    print('실패입니다.')"
   ]
  },
  {
   "cell_type": "code",
   "execution_count": null,
   "metadata": {
    "id": "KEhPzGANz-0Q"
   },
   "outputs": [],
   "source": [
    "while True:\n",
    "    computer = input('컴퓨터의 저장 숫자를 입력하세요 : ')\n",
    "    computer = int(computer)\n",
    "    for i in range(10):\n",
    "        gamer = input('컴퓨터의 숫자를 맞춰보세요 : ')\n",
    "        gamer = int(gamer)\n",
    "        if computer > gamer:\n",
    "            print('업')\n",
    "        elif computer < gamer:\n",
    "            print('다운')\n",
    "        elif computer == gamer:\n",
    "            print('정답입니다.')\n",
    "            break\n",
    "    if i == 9:\n",
    "        print('실패입니다.')"
   ]
  },
  {
   "cell_type": "code",
   "execution_count": null,
   "metadata": {
    "id": "-O72EbmE0GlQ"
   },
   "outputs": [],
   "source": [
    "balance = 0\n",
    "while True:\n",
    "    \n",
    "    print()\n",
    "    print('어서오세요 fitror 뱅크입니다.')\n",
    "    print('원하시는 서비스 메뉴를 선택해주세요.')\n",
    "    print('---------------------------')\n",
    "    print('1. 입금')\n",
    "    print('2. 출금')\n",
    "    print('3. 잔액확인')\n",
    "    print('4. 종료')\n",
    "    print('---------------------------')\n",
    "    print()\n",
    "    \n",
    "    menu = input('메뉴를 입력해주세요 : ')\n",
    "    menu = int(menu)\n",
    "    if menu == 1:\n",
    "        saving = input('입금하실 금액을 입력해주세요 : ')\n",
    "        saving = int(saving)\n",
    "        balance = balance + saving\n",
    "    elif menu == 2:\n",
    "        withdrow = input('출금하실 금액을 입력해주세요 : ')\n",
    "        withdrow = int(withdrow)\n",
    "        balance = balance - withdrow\n",
    "    elif menu == 3:\n",
    "        print(f'계좌 잔액은 {balance}원 입니다.')\n",
    "    elif menu == 4:\n",
    "        print()\n",
    "        print('이용해주셔서 감사합니다.')\n",
    "        print()\n",
    "        break\n",
    "    else:\n",
    "        print('메뉴입력이 잘못 되었습니다. 메뉴를 다시 선택해주세요.')"
   ]
  }
 ],
 "metadata": {
  "colab": {
   "authorship_tag": "ABX9TyOx6FqkkStpUTQc8K4sfe25",
   "collapsed_sections": [],
   "name": "03_python_controlflow.ipynb",
   "provenance": [],
   "toc_visible": true
  },
  "kernelspec": {
   "name": "python3",
   "display_name": "Python 3.8.8 64-bit ('base': conda)"
  },
  "language_info": {
   "codemirror_mode": {
    "name": "ipython",
    "version": 3
   },
   "file_extension": ".py",
   "mimetype": "text/x-python",
   "name": "python",
   "nbconvert_exporter": "python",
   "pygments_lexer": "ipython3",
   "version": "3.8.8"
  },
  "interpreter": {
   "hash": "b3ba2566441a7c06988d0923437866b63cedc61552a5af99d1f4fb67d367b25f"
  }
 },
 "nbformat": 4,
 "nbformat_minor": 1
}